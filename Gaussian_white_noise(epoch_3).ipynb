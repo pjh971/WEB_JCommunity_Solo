{
  "cells": [
    {
      "cell_type": "markdown",
      "metadata": {
        "id": "view-in-github",
        "colab_type": "text"
      },
      "source": [
        "<a href=\"https://colab.research.google.com/github/pjh971/WEB_JCommunity_Solo/blob/master/Gaussian_white_noise(epoch_3).ipynb\" target=\"_parent\"><img src=\"https://colab.research.google.com/assets/colab-badge.svg\" alt=\"Open In Colab\"/></a>"
      ]
    },
    {
      "cell_type": "markdown",
      "metadata": {
        "collapsed": false,
        "id": "uSGZ6cdmpknm",
        "pycharm": {
          "name": "#%% md\n"
        }
      },
      "source": [
        "[<img src='https://github.com/jeshraghian/snntorch/blob/master/docs/_static/img/snntorch_alpha_w.png?raw=true' width=\"400\">](https://github.com/jeshraghian/snntorch/)\n",
        "\n",
        "\n",
        "# snnTorch - Training Spiking Convolutional Neural Networks with snnTorch\n",
        "## Tutorial 5\n",
        "### By Jason K. Eshraghian (www.jasoneshraghian.com)\n",
        "\n",
        "<a href=\"https://colab.research.google.com/github/jeshraghian/snntorch/blob/master/examples/tutorial_6_CNN.ipynb\">\n",
        "  <img src=\"https://colab.research.google.com/assets/colab-badge.svg\" alt=\"Open In Colab\"/>\n",
        "</a>\n",
        "\n",
        "\n",
        "[<img src='https://github.com/jeshraghian/snntorch/blob/master/docs/_static/img/GitHub-Mark-Light-120px-plus.png?raw=true' width=\"28\">](https://github.com/jeshraghian/snntorch/) [<img src='https://github.com/jeshraghian/snntorch/blob/master/docs/_static/img/GitHub_Logo_White.png?raw=true' width=\"80\">](https://github.com/jeshraghian/snntorch/)"
      ]
    },
    {
      "cell_type": "markdown",
      "metadata": {
        "id": "rugeYYiqsrlc"
      },
      "source": [
        "The snnTorch tutorial series is based on the following paper. If you find these resources or code useful in your work, please consider citing the following source:\n",
        "\n",
        "> <cite> [Jason K. Eshraghian, Max Ward, Emre Neftci, Xinxin Wang, Gregor Lenz, Girish Dwivedi, Mohammed Bennamoun, Doo Seok Jeong, and Wei D. Lu. \"Training Spiking Neural Networks Using Lessons From Deep Learning\". arXiv preprint arXiv:2109.12894, September 2021.](https://arxiv.org/abs/2109.12894) </cite>\n",
        "\n"
      ]
    },
    {
      "cell_type": "markdown",
      "metadata": {
        "id": "Ymi3sqJg28OQ"
      },
      "source": [
        "# Introduction\n",
        "In this tutorial, you will:\n",
        "* Learn how spiking neurons are implemented as a recurrent network\n",
        "* Understand backpropagation through time, and the associated challenges in SNNs such as the non-differentiability of spikes\n",
        "* Train a fully-connected network on the static MNIST dataset\n",
        "\n",
        "<!-- * Implement various backprop strategies:\n",
        "  * Backpropagation Through Time\n",
        "  * Truncated-Backpropagation Through Time\n",
        "  * Real-Time Recurrent Learning -->\n",
        "\n",
        ">Part of this tutorial was inspired by Friedemann Zenke's extensive work on SNNs. Check out his repo on surrogate gradients [here](https://github.com/fzenke/spytorch), and a favourite paper of mine: E. O. Neftci, H. Mostafa, F. Zenke, [Surrogate Gradient Learning in Spiking Neural Networks: Bringing the Power of Gradient-based optimization to spiking neural networks.](https://ieeexplore.ieee.org/document/8891809) IEEE Signal Processing Magazine 36, 51–63.\n",
        "\n",
        "At the end of the tutorial, a basic supervised learning algorithm will be implemented. We will use the original static MNIST dataset and train a multi-layer fully-connected spiking neural network using gradient descent to perform image classification. \n",
        "\n",
        "If running in Google Colab:\n",
        "* You may connect to GPU by checking `Runtime` > `Change runtime type` > `Hardware accelerator: GPU`\n",
        "* Next, install the latest PyPi distribution of snnTorch by clicking into the following cell and pressing `Shift+Enter`."
      ]
    },
    {
      "cell_type": "code",
      "execution_count": null,
      "metadata": {
        "id": "5tn_wUlopkon",
        "pycharm": {
          "name": "#%%\n"
        },
        "colab": {
          "base_uri": "https://localhost:8080/"
        },
        "outputId": "2a0b7deb-ecbe-4b8b-d129-c99372530dbc"
      },
      "outputs": [
        {
          "output_type": "stream",
          "name": "stdout",
          "text": [
            "Collecting snntorch\n",
            "  Downloading snntorch-0.4.11-py2.py3-none-any.whl (62 kB)\n",
            "\u001b[?25l\r\u001b[K     |█████▎                          | 10 kB 30.5 MB/s eta 0:00:01\r\u001b[K     |██████████▌                     | 20 kB 32.5 MB/s eta 0:00:01\r\u001b[K     |███████████████▊                | 30 kB 22.1 MB/s eta 0:00:01\r\u001b[K     |█████████████████████           | 40 kB 18.5 MB/s eta 0:00:01\r\u001b[K     |██████████████████████████▏     | 51 kB 13.2 MB/s eta 0:00:01\r\u001b[K     |███████████████████████████████▍| 61 kB 14.5 MB/s eta 0:00:01\r\u001b[K     |████████████████████████████████| 62 kB 127 kB/s \n",
            "\u001b[?25hRequirement already satisfied: matplotlib in /usr/local/lib/python3.7/dist-packages (from snntorch) (3.2.2)\n",
            "Requirement already satisfied: numpy>=1.17 in /usr/local/lib/python3.7/dist-packages (from snntorch) (1.19.5)\n",
            "Requirement already satisfied: pandas in /usr/local/lib/python3.7/dist-packages (from snntorch) (1.1.5)\n",
            "Requirement already satisfied: torch>=1.1.0 in /usr/local/lib/python3.7/dist-packages (from snntorch) (1.10.0+cu111)\n",
            "Requirement already satisfied: typing-extensions in /usr/local/lib/python3.7/dist-packages (from torch>=1.1.0->snntorch) (3.10.0.2)\n",
            "Requirement already satisfied: cycler>=0.10 in /usr/local/lib/python3.7/dist-packages (from matplotlib->snntorch) (0.11.0)\n",
            "Requirement already satisfied: python-dateutil>=2.1 in /usr/local/lib/python3.7/dist-packages (from matplotlib->snntorch) (2.8.2)\n",
            "Requirement already satisfied: pyparsing!=2.0.4,!=2.1.2,!=2.1.6,>=2.0.1 in /usr/local/lib/python3.7/dist-packages (from matplotlib->snntorch) (3.0.6)\n",
            "Requirement already satisfied: kiwisolver>=1.0.1 in /usr/local/lib/python3.7/dist-packages (from matplotlib->snntorch) (1.3.2)\n",
            "Requirement already satisfied: six>=1.5 in /usr/local/lib/python3.7/dist-packages (from python-dateutil>=2.1->matplotlib->snntorch) (1.15.0)\n",
            "Requirement already satisfied: pytz>=2017.2 in /usr/local/lib/python3.7/dist-packages (from pandas->snntorch) (2018.9)\n",
            "Installing collected packages: snntorch\n",
            "Successfully installed snntorch-0.4.11\n"
          ]
        }
      ],
      "source": [
        "!pip install snntorch"
      ]
    },
    {
      "cell_type": "code",
      "execution_count": null,
      "metadata": {
        "id": "QXZ6Tuqc9Q-l"
      },
      "outputs": [],
      "source": [
        "# imports\n",
        "import snntorch as snn\n",
        "from snntorch import spikeplot as splt\n",
        "from snntorch import spikegen\n",
        "\n",
        "import torch\n",
        "import torch.nn as nn\n",
        "from torch.utils.data import DataLoader\n",
        "from torchvision import datasets, transforms\n",
        "\n",
        "import matplotlib.pyplot as plt\n",
        "import numpy as np\n",
        "import itertools"
      ]
    },
    {
      "cell_type": "markdown",
      "metadata": {
        "id": "gt2xMbLY9dVE"
      },
      "source": [
        "# 1. A Recurrent Representation of SNNs"
      ]
    },
    {
      "cell_type": "markdown",
      "metadata": {
        "id": "v7haBG7nA_TC"
      },
      "source": [
        "In Tutorial 3, we derived a recursive representation of a leaky integrate-and-fire (LIF) neuron: \n",
        "\n",
        "$$U[t+1] = \\underbrace{\\beta U[t]}_\\text{decay} + \\underbrace{WX[t+1]}_\\text{input} - \\underbrace{R[t]}_\\text{reset} \\tag{1}$$\n",
        "\n",
        "where the input synaptic current is interpreted as $I_{\\rm in}[t] = WX[t]$, and $X[t]$ may be some arbitrary input of spikes, a step/time-varying voltage, or unweighted step/time-varying current. Spiking is represented with the following equation, where if the membrane potential exceeds the threshold, a spike is emitted:\n",
        "\n",
        "$$S[t] = \\begin{cases} 1, &\\text{if}~U[t] > U_{\\rm thr} \\\\\n",
        "0, &\\text{otherwise}\\end{cases} \\tag{2}$$\n",
        "\n",
        "This formulation of a spiking neuron in a discrete, recursive form is almost perfectly poised to take advantage of the developments in training recurrent neural networks (RNNs) and sequence-based models. This is illustrated using an *implicit* recurrent connection for the decay of the membrane potential, and is distinguished from *explicit* recurrence where the output spike $S_{\\rm out}$ is fed back to the input. In the figure below, the connection weighted by $-U_{\\rm thr}$ represents the reset mechanism $R[t]$.\n",
        "\n",
        "\n",
        "<center>\n",
        "<img src='https://github.com/jeshraghian/snntorch/blob/master/docs/_static/img/examples/tutorial5/unrolled_2.png?raw=true' width=\"800\">\n",
        "</center>\n",
        "\n",
        "The benefit of an unrolled graph is that it provides an explicit description of how computations are performed. The process of unfolding illustrates the flow of information forward in time (from left to right) to compute outputs and losses, and backward in time to compute gradients. The more time steps that are simulated, the deeper the graph becomes. \n",
        "\n",
        "Conventional RNNs treat $\\beta$ as a learnable parameter. This is also possible for SNNs, though by default, they are treated as hyperparameters. This replaces the vanishing and exploding gradient problems with a hyperparameter search. A future tutorial will describe how to make $\\beta$ a learnable parameter."
      ]
    },
    {
      "cell_type": "markdown",
      "metadata": {
        "id": "Wgzf83HE2BeB"
      },
      "source": [
        "# 2. The Non-Differentiability of Spikes\n",
        "## 2.1 Training Using the Backprop Algorithm\n",
        "\n",
        "An alternative way to represent the relationship between $S$ and $U$ in $(2)$ is:\n",
        "\n",
        "$$S[t] = \\Theta(U[t] - U_{\\rm thr}) \\tag{3}$$ \n",
        "\n",
        "where $\\Theta(\\cdot)$ is the Heaviside step function:\n",
        "\n",
        "<center>\n",
        "<img src='https://github.com/jeshraghian/snntorch/blob/master/docs/_static/img/examples/tutorial3/3_2_spike_descrip.png?raw=true' width=\"600\">\n",
        "</center>\n",
        "\n",
        "Training a network in this form poses some serious challenges. Consider a single, isolated time step of the computational graph from the previous figure titled *\"Recurrent representation of spiking neurons\"*, as shown in the *forward pass* below:\n",
        "\n",
        "<center>\n",
        "<img src='https://github.com/jeshraghian/snntorch/blob/master/docs/_static/img/examples/tutorial5/non-diff.png?raw=true' width=\"400\">\n",
        "</center>\n",
        "\n",
        "The goal is to train the network using the gradient of the loss with respect to the weights, such that the weights are updated to minimize the loss. The backpropagation algorithm achieves this using the chain rule:\n",
        "\n",
        "$$\\frac{\\partial \\mathcal{L}}{\\partial W} = \n",
        "\\frac{\\partial \\mathcal{L}}{\\partial S}\n",
        "\\underbrace{\\frac{\\partial S}{\\partial U}}_{\\{0, \\infty\\}}\n",
        "\\frac{\\partial U}{\\partial I}\\\n",
        "\\frac{\\partial I}{\\partial W}\\ \\tag{4}$$\n",
        "\n",
        "From $(1)$, $\\partial I/\\partial W=X$, and $\\partial U/\\partial I=1$. While we have not yet defined a loss function, we can assume $\\partial \\mathcal{L}/\\partial S$ has an analytical solution, in a similar form to the cross-entropy or mean-square error loss (more on that shortly). \n",
        "\n",
        "However, the term that we are going to grapple with is $\\partial S/\\partial U$. The derivative of the Heaviside step function from $(3)$ is the Dirac Delta function, which evaluates to 0 everywhere, except at the threshold $U_{\\rm thr} = \\theta$, where it tends to infinity. This means the gradient will almost always be nulled to zero (or saturated if $U$ sits precisely at the threshold), and no learning can take place. This is known as the **dead neuron problem**. "
      ]
    },
    {
      "cell_type": "markdown",
      "metadata": {
        "id": "mVrM7nLOMvgx"
      },
      "source": [
        "## 2.2 Overcoming the Dead Neuron Problem\n",
        "\n",
        "The most common way to address the dead neuron problem is to keep the Heaviside function as it is during the forward pass, but swap the derivative term $\\partial S/\\partial U$ for something that does not kill the learning process during the backward pass, which will be denoted $\\partial \\tilde{S}/\\partial U$. This might sound odd, but it turns out that neural networks are quite robust to such approximations. This is commonly known as the *surrogate gradient* approach.\n",
        "\n",
        "A variety of options exist to using surrogate gradients, and we will dive into more detail on these methods in [Tutorial 6](https://snntorch.readthedocs.io/en/latest/tutorials/index.html). For now, a simple approximation is applied where $\\partial \\tilde{S}/\\partial U$ is set to $S$ itself.\n",
        "\n",
        "If $S$ does not spike, then the spike-gradient term is $0$. If $S$ spikes, then the gradient term is $1$. This simply looks like the gradient of a ReLU function shifted to the threshold. This method is known as the *Spike-Operator* approach and is described in more detail in the following paper:\n",
        "\n",
        "> <cite> Jason K. Eshraghian, Max Ward, Xinxin Wang, Gregor Lenz, Girish Dwivedi, Mohammed Bennamoun, Doo Seok Jeong, and Wei D. Lu. \"Training Spiking Neural Networks Using Lessons From Deep Learning\". arXiv, 2021. </cite>\n",
        "\n",
        "Inutitively, *Spike Operator* splits the gradient calculation into two chunks: one where the neuron is spiking, and one where it is silent:\n",
        "* **Silent:** If the neuron is silent, then the spike response can be obtained by scaling the membrane by 0: $S = U \\times 0 \\implies \\partial \\tilde{S}/\\partial U = 0$. \n",
        "* **Spiking:** If the neuron is spiking, then assume $U \\approx U_{\\rm thr}$, normalize $U_{\\rm thr}=1$, and the spike response can be obtained by scaling the membrane by 1: $S = U \\times 1 \\implies \\partial \\tilde{S}/\\partial U = 1$, where the tilde above $\\tilde{S}$ implies an approximation.\n",
        "\n",
        "This is summarized as follows:\n",
        "\n",
        "$$\\frac{\\partial \\tilde{S}}{\\partial U} \\leftarrow S = \\begin{cases} 1, &\\text{if}~U> U_{\\rm thr} \\\\\n",
        "0, &\\text{otherwise}\\end{cases} $$\n",
        "\n",
        "where the left arrow denotes substitution. \n",
        "\n",
        "The same neuron model described in  $(1)-(2)$ (a.k.a., `snn.Leaky` neuron from Tutorial 3) is implemented in PyTorch below. Don't worry if you don't understand this. This will be condensed into one line of code using snnTorch in a moment:"
      ]
    },
    {
      "cell_type": "code",
      "execution_count": null,
      "metadata": {
        "id": "mfJUm-6T8aG2"
      },
      "outputs": [],
      "source": [
        "# Leaky neuron model, overriding the backward pass with a custom function\n",
        "class LeakySurrogate(nn.Module):\n",
        "  def __init__(self, beta, threshold=1.0):\n",
        "      super(LeakySurrogate, self).__init__()\n",
        "\n",
        "      # initialize decay rate beta and threshold\n",
        "      self.beta = beta\n",
        "      self.threshold = threshold\n",
        "      self.spike_op = self.SpikeOperator.apply\n",
        "  \n",
        "  # the forward function is called each time we call Leaky\n",
        "  def forward(self, input_, mem):\n",
        "    spk = self.spike_op((mem-self.threshold))  # call the Heaviside function\n",
        "    reset = (spk * self.threshold).detach() # removes spike_op gradient from reset\n",
        "    mem = self.beta * mem + input_ - reset # Eq (1)\n",
        "    return spk, mem\n",
        "\n",
        "  # Forward pass: Heaviside function\n",
        "  # Backward pass: Override Dirac Delta with the Spike itself\n",
        "  @staticmethod\n",
        "  class SpikeOperator(torch.autograd.Function):\n",
        "      @staticmethod\n",
        "      def forward(ctx, mem):\n",
        "          spk = (mem > 0).float() # Heaviside on the forward pass: Eq(2)\n",
        "          ctx.save_for_backward(spk)  # store the spike for use in the backward pass\n",
        "          return spk\n",
        "\n",
        "      @staticmethod\n",
        "      def backward(ctx, grad_output):\n",
        "          (spk,) = ctx.saved_tensors  # retrieve the spike \n",
        "          grad = grad_output * spk # scale the gradient by the spike: 1/0\n",
        "          return grad"
      ]
    },
    {
      "cell_type": "markdown",
      "metadata": {
        "id": "1zkc1Mmp97OX"
      },
      "source": [
        "Note that the reset mechanism is detached from the computational graph, as the surrogate gradient should only be applied to $\\partial S/\\partial U$, and not $\\partial R/\\partial U$.\n",
        "\n",
        "The above neuron is instantiated using:"
      ]
    },
    {
      "cell_type": "code",
      "execution_count": null,
      "metadata": {
        "id": "EV3lU6soOnW6"
      },
      "outputs": [],
      "source": [
        "lif1 = LeakySurrogate(beta=0.9)"
      ]
    },
    {
      "cell_type": "markdown",
      "metadata": {
        "id": "StklvL_gPns1"
      },
      "source": [
        "This neuron can be simulated using a for-loop, just as in previous tutorials, while PyTorch's automatic differentation (autodiff) mechanism keeps track of the gradient in the background.\n",
        "\n",
        "Alternatively, the same thing can be accomplished by calling the `snn.Leaky` neuron. \n",
        "In fact, every time you call any neuron model from snnTorch, the *Spike Operator* surrogate gradient is applied to it by default:"
      ]
    },
    {
      "cell_type": "code",
      "execution_count": null,
      "metadata": {
        "id": "8Wa7N31mP9Va"
      },
      "outputs": [],
      "source": [
        "lif1 = snn.Leaky(beta=0.9)"
      ]
    },
    {
      "cell_type": "markdown",
      "metadata": {
        "id": "9EF70Xi1RX6w"
      },
      "source": [
        "If you would like to explore how this neuron behaves, then refer to [Tutorial 3](https://snntorch.readthedocs.io/en/latest/tutorials/index.html)."
      ]
    },
    {
      "cell_type": "markdown",
      "metadata": {
        "id": "cxl1UYSCRzzl"
      },
      "source": [
        "#3. Backprop Through Time\n",
        "Equation $(4)$ only calculates the gradient for one single time step (referred to as the *immediate influence* in the figure below), but the backpropagation through time (BPTT) algorithm calculates the gradient from the loss to *all* descendants and sums them together. \n",
        "\n",
        "The weight $W$ is applied at every time step, and so imagine a loss is also calculated at every time step. The influence of the weight on present and historical losses must be summed together to define the global gradient:\n",
        "\n",
        "$$\\frac{\\partial \\mathcal{L}}{\\partial W}=\\sum_t \\frac{\\partial\\mathcal{L}[t]}{\\partial W} = \n",
        "\\sum_t \\sum_{s\\leq t} \\frac{\\partial\\mathcal{L}[t]}{\\partial W[s]}\\frac{\\partial W[s]}{\\partial W} \\tag{5} $$\n",
        "\n",
        "The point of $(5)$ is to ensure causality: by constraining $s\\leq t$, we only account for the contribution of immediate and prior influences of $W$ on the loss. A recurrent system constrains the weight to be shared across all steps: $W[0]=W[1] =~... ~ = W$. Therefore, a change in $W[s]$ will have the same effect on all $W$, which implies that $\\partial W[s]/\\partial W=1$:\n",
        "\n",
        "$$\\frac{\\partial \\mathcal{L}}{\\partial W}=\n",
        "\\sum_t \\sum_{s\\leq t} \\frac{\\partial\\mathcal{L}[t]}{\\partial W[s]} \\tag{6} $$\n",
        "\n",
        "As an example, isolate the prior influence due to $s = t-1$ *only*; this means the backward pass must track back in time by one step. The influence of $W[t-1]$ on the loss can be written as:\n",
        "\n",
        "$$\\frac{\\partial \\mathcal{L}[t]}{\\partial W[t-1]} = \n",
        "\\frac{\\partial \\mathcal{L}[t]}{\\partial S[t]}\n",
        "\\underbrace{\\frac{\\partial \\tilde{S}[t]}{\\partial U[t]}}_{S[t]}\n",
        "\\underbrace{\\frac{\\partial U[t]}{\\partial U[t-1]}}_\\beta\n",
        "\\underbrace{\\frac{\\partial U[t-1]}{\\partial I[t-1]}}_1\n",
        "\\underbrace{\\frac{\\partial I[t-1]}{\\partial W[t-1]}}_{X[t]} \\tag{7}$$\n",
        "\n",
        "We have already dealt with all of these terms from $(4)$, except for $\\partial U[t]/\\partial U[t-1]$. From $(1)$, this temporal derivative term simply evaluates to $\\beta$. So if we really wanted to, we now know enough to painstakingly calculate the derivative of every weight at every time step by hand, and it'd look something like this for a single neuron:\n",
        "\n",
        "<center>\n",
        "<img src='https://github.com/jeshraghian/snntorch/blob/master/docs/_static/img/examples/tutorial5/bptt.png?raw=true' width=\"600\">\n",
        "</center>\n",
        "\n",
        "But thankfully, PyTorch's autodiff takes care of that in the background for us.  "
      ]
    },
    {
      "cell_type": "markdown",
      "metadata": {
        "id": "c_42-CbsZ1FM"
      },
      "source": [
        "# 4. Setting up the Loss / Output Decoding\n",
        "In a conventional, non-spiking neural network, a supervised, multi-class classification problem takes the neuron with the highest activation and treats that as the predicted class. \n",
        "\n",
        "In a spiking neural net, there are several options to interpreting the output spikes. The most common approaches are:\n",
        "* **Rate coding:** Take the neuron with the highest firing rate (or spike count) as the predicted class\n",
        "* **Latency coding:** Take the neuron that fires *first* as the predicted class\n",
        "\n",
        "This might feel familiar to [Tutorial 1 on neural encoding](https://snntorch.readthedocs.io/en/latest/tutorials/index.html). The difference is that, here, we are interpreting (decoding) the output spikes, rather than encoding/converting raw input data into spikes.\n",
        "\n",
        "Let's focus on a rate code. When input data is passed to the network, we want the correct neuron class to emit the most spikes over the course of the simulation run. This then corresponds to the highest average firing frequency. One way to achieve this is to increase the membrane potential of the correct class to $U>U_{\\rm thr}$, and that of incorrect classes to $U<U_{\\rm thr}$. Applying the target to $U$ serves as a proxy for modulating spiking behavior from $S$.\n",
        "\n",
        "This can be implemented by taking the softmax of the membrane potential for output neurons, where $C$ is the number of output classes:\n",
        "\n",
        "$$p_i[t] = \\frac{e^{U_i[t]}}{\\sum_{i=0}^{C}e^{U_i[t]}} \\tag{8}$$\n",
        "\n",
        "The cross-entropy between $p_i$ and the target $y_i \\in \\{0,1\\}^C$, which is a one-hot target vector, is obtained using:\n",
        "\n",
        "$$\\mathcal{L}_{CE}[t] = \\sum_{i=0}^Cy_i{\\rm log}(p_i[t]) \\tag{9}$$\n",
        "\n",
        "The practical effect is that the membrane potential of the correct class is encouraged to increase while those of incorrect classes are reduced. In effect, this means the correct class is encouraged to fire at all time steps, while incorrect classes are suppressed at all steps. This may not be the most efficient implementation of an SNN, but it is among the simplest.\n",
        "\n",
        "This target is applied at every time step of the simulation, thus also generating a loss at every step. These losses are then summed together at the end of the simulation:\n",
        "\n",
        "$$\\mathcal{L}_{CE} = \\sum_t\\mathcal{L}_{CE}[t] \\tag{10}$$\n",
        "\n",
        "This is just one of many possible ways to apply a loss function to a spiking neural network. A variety of approaches are available to use in snnTorch (in the module `snn.functional`), and will be the subject of a future tutorial.\n",
        "\n",
        "With all of the background theory having been taken care of, let’s finally dive into\n",
        "training a fully-connected spiking neural net."
      ]
    },
    {
      "cell_type": "markdown",
      "metadata": {
        "id": "zqJdfllYbc16"
      },
      "source": [
        "# 5. Setting up the Static MNIST Dataset"
      ]
    },
    {
      "cell_type": "code",
      "execution_count": null,
      "metadata": {
        "id": "lI0GbgLgpkos",
        "pycharm": {
          "name": "#%%\n"
        }
      },
      "outputs": [],
      "source": [
        "# dataloader arguments\n",
        "batch_size = 128\n",
        "data_path='/data/mnist'\n",
        "\n",
        "dtype = torch.float\n",
        "device = torch.device(\"cuda\") if torch.cuda.is_available() else torch.device(\"cpu\")"
      ]
    },
    {
      "cell_type": "code",
      "execution_count": null,
      "metadata": {
        "id": "2fhRixcspkot",
        "pycharm": {
          "name": "#%%\n"
        },
        "colab": {
          "base_uri": "https://localhost:8080/",
          "height": 439,
          "referenced_widgets": [
            "e0b482974b79455fa96016abe7b32215",
            "b675f5d4b45e49f8b0c745785d46e3d9",
            "c9b98bfc403b49648b5eb1af0d000e3d",
            "af90640fdc2c46c0b13ac97f44ed427d",
            "f0964b359b674df69028e220462cbc00",
            "dc940548a0c74f6d884de3bdee31cbe1",
            "4582c6c78d88478a8dbe1883883b72a3",
            "7c8fb569a4b247ac82ccbc61532b0cec",
            "011199de04de42a3af2786101b665c2e",
            "4ec8801434fb4faab573164e7c9c7ffa",
            "72d3ce0b09904c9ca05deee96cac21f0",
            "bbdd2c7b7d5c4753b993359e6adc94a7",
            "466598f70e444dcd997602f48077ebbb",
            "49269ece9d6a4c2eb0f6b4bb60437035",
            "89c886d5586d473b96500eb620a144ea",
            "fcbaa1cf94ba46d590ce66d896788b7f",
            "565fde0e28a446a981c26e2ee9e22dad",
            "760bcff1ddaa47f39a3131c0fedb90bc",
            "76f5d455a2564c1497f8d63e77305c4c",
            "db62a8accc8944228663387b2fd5ae84",
            "abeacfaaae9a4a77bdf1c3f93ba9b0e7",
            "f0826037ed434cd8b169228888d6305a",
            "c98e98043fb54dd0a7bda0f5d61b4179",
            "d6b703dcecca48428cf4a3182619a758",
            "e93a90b9cade4d25af3da13794cb5beb",
            "424c4267c0a647928fd4c1cba7a6b0d2",
            "29562dc61767414a9ffcf0b7e333950b",
            "73a898215e6d477bac53b8c646192648",
            "1b0d9075d9114f1e9664d91659693f17",
            "50daa27afc44401e955a17df44a50a7d",
            "3d87ea6367074365a4d204a93fda7235",
            "07319c982734410c8df75c5828a42b81",
            "28c2515d9e154b3b9a6c2aa6ecb63bfb",
            "622feade20a3449484556333db221838",
            "a8c0e0035b5045b48287b4d517fb64f2",
            "7a81f2f469514d04b74c78543aa24ae0",
            "b58f148edd614c83998d6befc23426f8",
            "3df3dc795a8846849c4e8a6c80e1b74a",
            "6ff969b27ba844fea292fe85b234104e",
            "51f7173aa99e4809b3b48da7c41fa26c",
            "701b7f6e67f74c1cbdacea5c1008eb26",
            "2bb417f1a46a46ef8cbba6f009bdd9f4",
            "f79d9f9f2f9c487786c94d17b2b7a9d4",
            "59c5599f382a4566a7be569c2d4d2c84"
          ]
        },
        "outputId": "1f9a2cfa-966e-4f61-c790-108381340b1c"
      },
      "outputs": [
        {
          "output_type": "stream",
          "name": "stdout",
          "text": [
            "Downloading http://yann.lecun.com/exdb/mnist/train-images-idx3-ubyte.gz\n",
            "Downloading http://yann.lecun.com/exdb/mnist/train-images-idx3-ubyte.gz to /data/mnist/MNIST/raw/train-images-idx3-ubyte.gz\n"
          ]
        },
        {
          "output_type": "display_data",
          "data": {
            "application/vnd.jupyter.widget-view+json": {
              "model_id": "e0b482974b79455fa96016abe7b32215",
              "version_minor": 0,
              "version_major": 2
            },
            "text/plain": [
              "  0%|          | 0/9912422 [00:00<?, ?it/s]"
            ]
          },
          "metadata": {}
        },
        {
          "output_type": "stream",
          "name": "stdout",
          "text": [
            "Extracting /data/mnist/MNIST/raw/train-images-idx3-ubyte.gz to /data/mnist/MNIST/raw\n",
            "\n",
            "Downloading http://yann.lecun.com/exdb/mnist/train-labels-idx1-ubyte.gz\n",
            "Downloading http://yann.lecun.com/exdb/mnist/train-labels-idx1-ubyte.gz to /data/mnist/MNIST/raw/train-labels-idx1-ubyte.gz\n"
          ]
        },
        {
          "output_type": "display_data",
          "data": {
            "application/vnd.jupyter.widget-view+json": {
              "model_id": "bbdd2c7b7d5c4753b993359e6adc94a7",
              "version_minor": 0,
              "version_major": 2
            },
            "text/plain": [
              "  0%|          | 0/28881 [00:00<?, ?it/s]"
            ]
          },
          "metadata": {}
        },
        {
          "output_type": "stream",
          "name": "stdout",
          "text": [
            "Extracting /data/mnist/MNIST/raw/train-labels-idx1-ubyte.gz to /data/mnist/MNIST/raw\n",
            "\n",
            "Downloading http://yann.lecun.com/exdb/mnist/t10k-images-idx3-ubyte.gz\n",
            "Downloading http://yann.lecun.com/exdb/mnist/t10k-images-idx3-ubyte.gz to /data/mnist/MNIST/raw/t10k-images-idx3-ubyte.gz\n"
          ]
        },
        {
          "output_type": "display_data",
          "data": {
            "application/vnd.jupyter.widget-view+json": {
              "model_id": "c98e98043fb54dd0a7bda0f5d61b4179",
              "version_minor": 0,
              "version_major": 2
            },
            "text/plain": [
              "  0%|          | 0/1648877 [00:00<?, ?it/s]"
            ]
          },
          "metadata": {}
        },
        {
          "output_type": "stream",
          "name": "stdout",
          "text": [
            "Extracting /data/mnist/MNIST/raw/t10k-images-idx3-ubyte.gz to /data/mnist/MNIST/raw\n",
            "\n",
            "Downloading http://yann.lecun.com/exdb/mnist/t10k-labels-idx1-ubyte.gz\n",
            "Downloading http://yann.lecun.com/exdb/mnist/t10k-labels-idx1-ubyte.gz to /data/mnist/MNIST/raw/t10k-labels-idx1-ubyte.gz\n"
          ]
        },
        {
          "output_type": "display_data",
          "data": {
            "application/vnd.jupyter.widget-view+json": {
              "model_id": "622feade20a3449484556333db221838",
              "version_minor": 0,
              "version_major": 2
            },
            "text/plain": [
              "  0%|          | 0/4542 [00:00<?, ?it/s]"
            ]
          },
          "metadata": {}
        },
        {
          "output_type": "stream",
          "name": "stdout",
          "text": [
            "Extracting /data/mnist/MNIST/raw/t10k-labels-idx1-ubyte.gz to /data/mnist/MNIST/raw\n",
            "\n"
          ]
        }
      ],
      "source": [
        "# Define a transform\n",
        "transform = transforms.Compose([\n",
        "            transforms.Resize((28, 28)),\n",
        "            transforms.Grayscale(),\n",
        "            transforms.ToTensor(),\n",
        "            transforms.Normalize((0,), (1,))])\n",
        "\n",
        "mnist_train = datasets.MNIST(data_path, train=True, download=True, transform=transform)\n",
        "mnist_test = datasets.MNIST(data_path, train=False, download=True, transform=transform)"
      ]
    },
    {
      "cell_type": "markdown",
      "metadata": {
        "id": "RAM_dP887uTq"
      },
      "source": [
        "If the above code blocks throws an error, e.g. the MNIST servers are down, then uncomment the following code instead."
      ]
    },
    {
      "cell_type": "code",
      "execution_count": null,
      "metadata": {
        "id": "4jyJVqUNdXDo"
      },
      "outputs": [],
      "source": [
        "# # temporary dataloader if MNIST service is unavailable\n",
        "# !wget www.di.ens.fr/~lelarge/MNIST.tar.gz\n",
        "# !tar -zxvf MNIST.tar.gz\n",
        "\n",
        "# mnist_train = datasets.MNIST(root = './', train=True, download=True, transform=transform)\n",
        "# mnist_test = datasets.MNIST(root = './', train=False, download=True, transform=transform)"
      ]
    },
    {
      "cell_type": "code",
      "execution_count": null,
      "metadata": {
        "id": "aEtCbO6upkou",
        "pycharm": {
          "name": "#%%\n"
        }
      },
      "outputs": [],
      "source": [
        "# Create DataLoaders\n",
        "train_loader = DataLoader(mnist_train, batch_size=batch_size, shuffle=True, drop_last=True)\n",
        "test_loader = DataLoader(mnist_test, batch_size=batch_size, shuffle=True, drop_last=True)"
      ]
    },
    {
      "cell_type": "markdown",
      "metadata": {
        "id": "GhFyzySNeT_e"
      },
      "source": [
        "# 6. Define the Network"
      ]
    },
    {
      "cell_type": "code",
      "execution_count": null,
      "metadata": {
        "id": "Lud3kywn55fj",
        "colab": {
          "base_uri": "https://localhost:8080/"
        },
        "outputId": "43c037fc-26e1-4644-d363-1a953d19293a"
      },
      "outputs": [
        {
          "output_type": "stream",
          "name": "stdout",
          "text": [
            "epoch : 3, mean : 0.1, std_var : 2.0\n",
            "Total correctly classified test set images: 9536/10000\n",
            "Test Set Accuracy: 95.36%\n",
            "\n",
            "epoch : 3, mean : 0.1, std_var : 4.0\n",
            "Total correctly classified test set images: 9493/10000\n",
            "Test Set Accuracy: 94.93%\n",
            "\n",
            "epoch : 3, mean : 0.1, std_var : 6.0\n",
            "Total correctly classified test set images: 9405/10000\n",
            "Test Set Accuracy: 94.05%\n",
            "\n",
            "epoch : 3, mean : 0.1, std_var : 8.0\n",
            "Total correctly classified test set images: 9254/10000\n",
            "Test Set Accuracy: 92.54%\n",
            "\n",
            "epoch : 3, mean : 0.1, std_var : 10.0\n",
            "Total correctly classified test set images: 8770/10000\n",
            "Test Set Accuracy: 87.70%\n",
            "\n",
            "epoch : 3, mean : 0.1, std_var : 12.0\n",
            "Total correctly classified test set images: 8979/10000\n",
            "Test Set Accuracy: 89.79%\n",
            "\n",
            "epoch : 3, mean : 0.30000000000000004, std_var : 2.0\n",
            "Total correctly classified test set images: 9602/10000\n",
            "Test Set Accuracy: 96.02%\n",
            "\n",
            "epoch : 3, mean : 0.30000000000000004, std_var : 4.0\n",
            "Total correctly classified test set images: 9515/10000\n",
            "Test Set Accuracy: 95.15%\n",
            "\n",
            "epoch : 3, mean : 0.30000000000000004, std_var : 6.0\n",
            "Total correctly classified test set images: 9370/10000\n",
            "Test Set Accuracy: 93.70%\n",
            "\n",
            "epoch : 3, mean : 0.30000000000000004, std_var : 8.0\n",
            "Total correctly classified test set images: 9112/10000\n",
            "Test Set Accuracy: 91.12%\n",
            "\n",
            "epoch : 3, mean : 0.30000000000000004, std_var : 10.0\n",
            "Total correctly classified test set images: 8965/10000\n",
            "Test Set Accuracy: 89.65%\n",
            "\n",
            "epoch : 3, mean : 0.30000000000000004, std_var : 12.0\n",
            "Total correctly classified test set images: 8830/10000\n",
            "Test Set Accuracy: 88.30%\n",
            "\n",
            "epoch : 3, mean : 0.5, std_var : 2.0\n",
            "Total correctly classified test set images: 9576/10000\n",
            "Test Set Accuracy: 95.76%\n",
            "\n",
            "epoch : 3, mean : 0.5, std_var : 4.0\n",
            "Total correctly classified test set images: 9459/10000\n",
            "Test Set Accuracy: 94.59%\n",
            "\n",
            "epoch : 3, mean : 0.5, std_var : 6.0\n",
            "Total correctly classified test set images: 9355/10000\n",
            "Test Set Accuracy: 93.55%\n",
            "\n",
            "epoch : 3, mean : 0.5, std_var : 8.0\n",
            "Total correctly classified test set images: 9100/10000\n",
            "Test Set Accuracy: 91.00%\n",
            "\n",
            "epoch : 3, mean : 0.5, std_var : 10.0\n",
            "Total correctly classified test set images: 9055/10000\n",
            "Test Set Accuracy: 90.55%\n",
            "\n",
            "epoch : 3, mean : 0.5, std_var : 12.0\n",
            "Total correctly classified test set images: 8678/10000\n",
            "Test Set Accuracy: 86.78%\n",
            "\n",
            "epoch : 3, mean : 0.7, std_var : 2.0\n",
            "Total correctly classified test set images: 9495/10000\n",
            "Test Set Accuracy: 94.95%\n",
            "\n",
            "epoch : 3, mean : 0.7, std_var : 4.0\n",
            "Total correctly classified test set images: 9304/10000\n",
            "Test Set Accuracy: 93.04%\n",
            "\n",
            "epoch : 3, mean : 0.7, std_var : 6.0\n",
            "Total correctly classified test set images: 9357/10000\n",
            "Test Set Accuracy: 93.57%\n",
            "\n",
            "epoch : 3, mean : 0.7, std_var : 8.0\n",
            "Total correctly classified test set images: 9078/10000\n",
            "Test Set Accuracy: 90.78%\n",
            "\n",
            "epoch : 3, mean : 0.7, std_var : 10.0\n",
            "Total correctly classified test set images: 9169/10000\n",
            "Test Set Accuracy: 91.69%\n",
            "\n",
            "epoch : 3, mean : 0.7, std_var : 12.0\n",
            "Total correctly classified test set images: 8783/10000\n",
            "Test Set Accuracy: 87.83%\n",
            "\n",
            "epoch : 3, mean : 0.9, std_var : 2.0\n",
            "Total correctly classified test set images: 9495/10000\n",
            "Test Set Accuracy: 94.95%\n",
            "\n",
            "epoch : 3, mean : 0.9, std_var : 4.0\n",
            "Total correctly classified test set images: 9029/10000\n",
            "Test Set Accuracy: 90.29%\n",
            "\n",
            "epoch : 3, mean : 0.9, std_var : 6.0\n",
            "Total correctly classified test set images: 9323/10000\n",
            "Test Set Accuracy: 93.23%\n",
            "\n",
            "epoch : 3, mean : 0.9, std_var : 8.0\n",
            "Total correctly classified test set images: 9163/10000\n",
            "Test Set Accuracy: 91.63%\n",
            "\n",
            "epoch : 3, mean : 0.9, std_var : 10.0\n",
            "Total correctly classified test set images: 8950/10000\n",
            "Test Set Accuracy: 89.50%\n",
            "\n",
            "epoch : 3, mean : 0.9, std_var : 12.0\n",
            "Total correctly classified test set images: 8799/10000\n",
            "Test Set Accuracy: 87.99%\n",
            "\n",
            "epoch : 3, mean : 1.1, std_var : 2.0\n",
            "Total correctly classified test set images: 9469/10000\n",
            "Test Set Accuracy: 94.69%\n",
            "\n",
            "epoch : 3, mean : 1.1, std_var : 4.0\n",
            "Total correctly classified test set images: 9049/10000\n",
            "Test Set Accuracy: 90.49%\n",
            "\n",
            "epoch : 3, mean : 1.1, std_var : 6.0\n",
            "Total correctly classified test set images: 9288/10000\n",
            "Test Set Accuracy: 92.88%\n",
            "\n",
            "epoch : 3, mean : 1.1, std_var : 8.0\n",
            "Total correctly classified test set images: 9003/10000\n",
            "Test Set Accuracy: 90.03%\n",
            "\n",
            "epoch : 3, mean : 1.1, std_var : 10.0\n",
            "Total correctly classified test set images: 9028/10000\n",
            "Test Set Accuracy: 90.28%\n",
            "\n",
            "epoch : 3, mean : 1.1, std_var : 12.0\n",
            "Total correctly classified test set images: 8927/10000\n",
            "Test Set Accuracy: 89.27%\n",
            "\n"
          ]
        }
      ],
      "source": [
        "# Network Architecture\n",
        "num_inputs = 28*28\n",
        "num_hidden = 1000\n",
        "num_outputs = 10\n",
        "# Temporal Dynamics\n",
        "num_steps = 25\n",
        "beta = 0.95\n",
        "\n",
        "#plot 그릴 때 이용할 변수\n",
        "plt_result = [[[0 for i in range(6)] for j in range(6)] for k in range(1)]\n",
        "\n",
        "import random\n",
        "#3*6*6번 반복\n",
        "for epoch_mul in range(1, 2):\n",
        "  for mean in range(0, 51, 10):\n",
        "    for std_var in range(0, 51, 10):\n",
        "      # Define Network\n",
        "      class Net(nn.Module):\n",
        "          def __init__(self):\n",
        "              super().__init__()\n",
        "\n",
        "              # Initialize layers\n",
        "              self.fc1 = nn.Linear(num_inputs, num_hidden)\n",
        "              self.lif1 = snn.Leaky(beta=beta)\n",
        "              self.fc2 = nn.Linear(num_hidden, num_outputs)\n",
        "              self.lif2 = snn.Leaky(beta=beta)\n",
        "\n",
        "          def forward(self, x):\n",
        "\n",
        "              # Initialize hidden states at t=0\n",
        "              mem1 = self.lif1.init_leaky()\n",
        "              mem2 = self.lif2.init_leaky()\n",
        "              \n",
        "              # Record the final layer\n",
        "              spk2_rec = []\n",
        "              mem2_rec = []\n",
        "\n",
        "              for step in range(num_steps):\n",
        "                  cur1 = self.fc1(x)\n",
        "                  spk1, mem1 = self.lif1(cur1, mem1)\n",
        "                  cur2 = self.fc2(spk1)\n",
        "                  spk2, mem2 = self.lif2(cur2, mem2)\n",
        "                  spk2_rec.append(spk2)\n",
        "                  mem2_rec.append(mem2)\n",
        "\n",
        "              return torch.stack(spk2_rec, dim=0), torch.stack(mem2_rec, dim=0)\n",
        "              \n",
        "      # Load the network onto CUDA if available\n",
        "      net = Net().to(device)\n",
        "      # pass data into the network, sum the spikes over time\n",
        "      # and compare the neuron with the highest number of spikes\n",
        "      # with the target\n",
        "\n",
        "      def print_batch_accuracy(data, targets, train=False):\n",
        "          output, _ = net(data.view(batch_size, -1))\n",
        "      #    _, idx = output.sum(dim=0).max(1)\n",
        "      ##########################\n",
        "          idx = []\n",
        "          fastest_time = []\n",
        "          for i in range(batch_size):\n",
        "            tmp = output[:, i, :] #i번째 batch에 대한 output\n",
        "            for j in range(num_outputs): #각 output 뉴런에 대하여\n",
        "              if torch.nonzero(tmp[:, j]).numel() != 0:\n",
        "                tmp_fastest_time = torch.nonzero(tmp[:, j])[0][0] #가장 빨리 도착한 spike time 저장\n",
        "                fastest_time.append(tmp_fastest_time)\n",
        "              else:\n",
        "                fastest_time.append(24)\n",
        "            tmp_idx = np.argmin(fastest_time)\n",
        "            idx.append(tmp_idx)\n",
        "            fastest_time.clear()\n",
        "          idx = torch.tensor(idx)\n",
        "          idx = idx.to(device)\n",
        "      ##########################\n",
        "          acc = np.mean((targets == idx).detach().cpu().numpy())\n",
        "\n",
        "          if train:\n",
        "              print(f\"Train set accuracy for a single minibatch: {acc*100:.2f}%\")\n",
        "          else:\n",
        "              print(f\"Test set accuracy for a single minibatch: {acc*100:.2f}%\")\n",
        "\n",
        "      def train_printer():\n",
        "        ##################################################\n",
        "        '''\n",
        "          print(f\"Epoch {epoch}, Iteration {iter_counter}\")\n",
        "          print(f\"Train Set Loss: {loss_hist[counter]:.2f}\")\n",
        "          print(f\"Test Set Loss: {test_loss_hist[counter]:.2f}\")\n",
        "          print_batch_accuracy(data, targets, train=True)\n",
        "          print_batch_accuracy(test_data, test_targets, train=False)\n",
        "          print(\"\\n\")\n",
        "        '''\n",
        "        ##################################################\n",
        "\n",
        "\n",
        "\n",
        "      def default_pars( **kwargs):\n",
        "          pars = {}\n",
        "          \n",
        "          ### typical neuron parameters###\n",
        "          pars['V_th']    = -55. # spike threshold [mV]\n",
        "          pars['V_reset'] = -75. #reset potential [mV]\n",
        "          pars['tau_m']   = 10. # membrane time constant [ms]\n",
        "          pars['g_L']     = 10. #leak conductance [nS]\n",
        "          pars['V_init']  = -65. # initial potential [mV]\n",
        "          pars['V_L']     = -75. #leak reversal potential [mV]\n",
        "          pars['tref']    = 2. # refractory time (ms)\n",
        "\n",
        "          ### simulation parameters ###\n",
        "          pars['T'] = 400. # Total duration of simulation [ms]\n",
        "          pars['dt'] = .1  # Simulation time step [ms]\n",
        "          \n",
        "          ### external parameters if any ###\n",
        "          for k in kwargs:\n",
        "              pars[k] = kwargs[k]\n",
        "          \n",
        "          pars['range_t'] = np.arange(0, pars['T'], pars['dt']) # Vector of discretized time points [ms]\n",
        "              \n",
        "          return pars\n",
        "\n",
        "      def my_GWN(pars, sig, myseed=False):\n",
        "          '''\n",
        "          Expects:\n",
        "          pars       : parameter dictionary\n",
        "          sig        : noise amplitute\n",
        "          myseed     : random seed. int or boolean\n",
        "          \n",
        "          Returns:\n",
        "          I          : Gaussian white noise input\n",
        "          '''\n",
        "          \n",
        "          # Retrieve simulation parameters\n",
        "          dt, range_t = pars['dt'], pars['range_t']\n",
        "          Lt = range_t.size\n",
        "          \n",
        "          # set random seed\n",
        "          if myseed:\n",
        "              np.random.seed(seed=myseed) \n",
        "          else:\n",
        "              np.random.seed()\n",
        "              \n",
        "          #generate GWN\n",
        "          I =  sig * np.random.normal(0.1 + mean/50, 2 + std_var/5, size=(batch_size, 1, 28, 28)).astype('f')\n",
        "          \n",
        "          return I\n",
        "\n",
        "      pars = default_pars()\n",
        "      sig_ou = 0.1\n",
        "\n",
        "\n",
        "      loss = nn.CrossEntropyLoss()\n",
        "      optimizer = torch.optim.Adam(net.parameters(), lr=5e-4, betas=(0.9, 0.999))\n",
        "\n",
        "\n",
        "      num_epochs = 3 * epoch_mul\n",
        "      loss_hist = []\n",
        "      test_loss_hist = []\n",
        "      counter = 0\n",
        "\n",
        "      # Outer training loop\n",
        "      for epoch in range(num_epochs):\n",
        "          iter_counter = 0\n",
        "          train_batch = iter(train_loader)\n",
        "\n",
        "          # Minibatch training loop\n",
        "          for data, targets in train_batch:\n",
        "          #####################################################\n",
        "              data += my_GWN(pars, sig=sig_ou, myseed = random.randint(1, 1000))\n",
        "          #####################################################      \n",
        "              data = data.to(device)\n",
        "              targets = targets.to(device)\n",
        "\n",
        "              # forward pass\n",
        "              net.train()\n",
        "              spk_rec, mem_rec = net(data.view(batch_size, -1))\n",
        "\n",
        "              # initialize the loss & sum over time\n",
        "              loss_val = torch.zeros((1), dtype=dtype, device=device)\n",
        "              for step in range(num_steps):\n",
        "                  loss_val += loss(mem_rec[step], targets)\n",
        "\n",
        "              # Gradient calculation + weight update\n",
        "              optimizer.zero_grad()\n",
        "              loss_val.backward()\n",
        "              optimizer.step()\n",
        "\n",
        "              # Store loss history for future plotting\n",
        "              loss_hist.append(loss_val.item())\n",
        "\n",
        "              # Test set\n",
        "              with torch.no_grad():\n",
        "                  net.eval()\n",
        "                  test_data, test_targets = next(iter(test_loader))\n",
        "              #####################################################\n",
        "                  test_data += my_GWN(pars, sig=sig_ou, myseed = random.randint(1, 1000))\n",
        "              #####################################################                  \n",
        "                  test_data = test_data.to(device)\n",
        "                  test_targets = test_targets.to(device)\n",
        "\n",
        "                  # Test set forward pass\n",
        "                  test_spk, test_mem = net(test_data.view(batch_size, -1))\n",
        "\n",
        "                  # Test set loss\n",
        "                  test_loss = torch.zeros((1), dtype=dtype, device=device)\n",
        "                  for step in range(num_steps):\n",
        "                      test_loss += loss(test_mem[step], test_targets)\n",
        "                  test_loss_hist.append(test_loss.item())\n",
        "\n",
        "                  # Print train/test loss/accuracy\n",
        "                  if counter % 50 == 0:\n",
        "                      train_printer()\n",
        "                  counter += 1\n",
        "                  iter_counter +=1\n",
        "\n",
        "\n",
        "      total = 0\n",
        "      correct = 0\n",
        "\n",
        "      # drop_last switched to False to keep all samples\n",
        "      test_loader = DataLoader(mnist_test, batch_size=batch_size, shuffle=True, drop_last=False)\n",
        "\n",
        "      with torch.no_grad():\n",
        "        net.eval()\n",
        "        for data, targets in test_loader:\n",
        "          data = data.to(device)\n",
        "          targets = targets.to(device)\n",
        "          \n",
        "          # forward pass\n",
        "          test_spk, _ = net(data.view(data.size(0), -1))\n",
        "\n",
        "          # calculate total accuracy\n",
        "          _, predicted = test_spk.sum(dim=0).max(1)\n",
        "          total += targets.size(0)\n",
        "          correct += (predicted == targets).sum().item()\n",
        "      print(f\"epoch : {num_epochs}, mean : {0.1 + mean / 50}, std_var : {2 + std_var / 5}\")\n",
        "      print(f\"Total correctly classified test set images: {correct}/{total}\")\n",
        "      print(f\"Test Set Accuracy: {100 * correct / total:.2f}%\")\n",
        "      print(\"\")\n",
        "      plt_result[epoch_mul - 1][(int)(mean / 10)][(int)(std_var / 10)] = 100 * correct / total"
      ]
    },
    {
      "cell_type": "code",
      "source": [
        "result1 = np.zeros((7, 7))\n",
        "for i in range(6):\n",
        "  for j in range(6):\n",
        "    result1[i][j] = plt_result[0][i][j]\n",
        "mean = np.arange(0, 61, 10) / 50 + 0.1\n",
        "std_var = np.arange(0, 61, 10) / 5 + 2\n",
        "plt.figure()\n",
        "plt.figure(figsize=(20, 10))\n",
        "plt.subplot(1, 1, 1)\n",
        "plt.pcolor(mean, std_var, result1.T)\n",
        "plt.ylabel('standard variation')\n",
        "plt.xlabel('mean');\n",
        "plt.colorbar()\n",
        "plt.clim(86,94)\n",
        "plt.title('Result(epoch : 3)');\n",
        "\n",
        "'''\n",
        "result2 = np.zeros((7, 7))\n",
        "for i in range(7):\n",
        "  for j in range(7):\n",
        "    result2[i][j] = plt_result[0][i][j]\n",
        "mean = -0.5 + np.arange(0, 13, 2) / 10\n",
        "std_var = np.arange(0, 13, 2) / 10\n",
        "plt.figure()\n",
        "plt.figure(figsize=(20, 10))\n",
        "plt.subplot(3, 1, 2)\n",
        "plt.pcolor(mean, std_var, result2.T)\n",
        "plt.ylabel('standard variation')\n",
        "plt.xlabel('mean');\n",
        "plt.colorbar()\n",
        "plt.clim(91,97)\n",
        "plt.title('Result(epoch : 6)');\n",
        "\n",
        "result3 = np.zeros((7, 7))\n",
        "for i in range(7):\n",
        "  for j in range(7):\n",
        "    result3[i][j] = plt_result[0][i][j]\n",
        "mean = -0.5 + np.arange(0, 13, 2) / 10\n",
        "std_var = np.arange(0, 13, 2) / 10\n",
        "plt.figure()\n",
        "plt.figure(figsize=(20, 10))\n",
        "plt.subplot(1, 1, 1)\n",
        "plt.pcolor(mean, std_var, result3.T)\n",
        "plt.ylabel('standard variation')\n",
        "plt.xlabel('mean');\n",
        "plt.colorbar()\n",
        "plt.clim(91,97)\n",
        "plt.title('Result(epoch : 9)');\n",
        "'''"
      ],
      "metadata": {
        "id": "vpnvluOWI8lz",
        "colab": {
          "base_uri": "https://localhost:8080/",
          "height": 713
        },
        "outputId": "ece77087-67f5-4fe3-e8b2-3e71f5d90f82"
      },
      "execution_count": null,
      "outputs": [
        {
          "output_type": "execute_result",
          "data": {
            "application/vnd.google.colaboratory.intrinsic+json": {
              "type": "string"
            },
            "text/plain": [
              "\"\\nresult2 = np.zeros((7, 7))\\nfor i in range(7):\\n  for j in range(7):\\n    result2[i][j] = plt_result[0][i][j]\\nmean = -0.5 + np.arange(0, 13, 2) / 10\\nstd_var = np.arange(0, 13, 2) / 10\\nplt.figure()\\nplt.figure(figsize=(20, 10))\\nplt.subplot(3, 1, 2)\\nplt.pcolor(mean, std_var, result2.T)\\nplt.ylabel('standard variation')\\nplt.xlabel('mean');\\nplt.colorbar()\\nplt.clim(91,97)\\nplt.title('Result(epoch : 6)');\\n\\nresult3 = np.zeros((7, 7))\\nfor i in range(7):\\n  for j in range(7):\\n    result3[i][j] = plt_result[0][i][j]\\nmean = -0.5 + np.arange(0, 13, 2) / 10\\nstd_var = np.arange(0, 13, 2) / 10\\nplt.figure()\\nplt.figure(figsize=(20, 10))\\nplt.subplot(1, 1, 1)\\nplt.pcolor(mean, std_var, result3.T)\\nplt.ylabel('standard variation')\\nplt.xlabel('mean');\\nplt.colorbar()\\nplt.clim(91,97)\\nplt.title('Result(epoch : 9)');\\n\""
            ]
          },
          "metadata": {},
          "execution_count": 13
        },
        {
          "output_type": "display_data",
          "data": {
            "text/plain": [
              "<Figure size 432x288 with 0 Axes>"
            ]
          },
          "metadata": {}
        },
        {
          "output_type": "display_data",
          "data": {
            "image/png": "[encoded data removed]",
            "text/plain": [
              "<Figure size 1440x720 with 2 Axes>"
            ]
          },
          "metadata": {
            "needs_background": "light"
          }
        }
      ]
    },
    {
      "cell_type": "code",
      "execution_count": null,
      "metadata": {
        "id": "_Pk_EScnpkpj",
        "pycharm": {
          "name": "#%%\n"
        },
        "colab": {
          "base_uri": "https://localhost:8080/",
          "height": 350
        },
        "outputId": "e6b84dab-02b4-4dad-badb-e0c950313c4e"
      },
      "outputs": [
        {
          "output_type": "display_data",
          "data": {
            "image/png": "[encoded data removed]",
            "text/plain": [
              "<Figure size 720x360 with 1 Axes>"
            ]
          },
          "metadata": {}
        }
      ],
      "source": [
        "# Plot Loss\n",
        "fig = plt.figure(facecolor=\"w\", figsize=(10, 5))\n",
        "plt.plot(loss_hist)\n",
        "plt.plot(test_loss_hist)\n",
        "plt.title(\"Loss Curves\")\n",
        "plt.legend([\"Train Loss\", \"Test Loss\"])\n",
        "plt.xlabel(\"Iteration\")\n",
        "\n",
        "plt.ylabel(\"Loss\")\n",
        "plt.show()"
      ]
    },
    {
      "cell_type": "markdown",
      "metadata": {
        "id": "Y0fHcAKfrav6"
      },
      "source": [
        "The code in the `forward()` function will only be called once the input argument `x` is explicitly passed into `net`.\n",
        "\n",
        "* `fc1` applies a linear transformation to all input pixels from the MNIST dataset;\n",
        "* `lif1` integrates the weighted input over time, emitting a spike if the threshold condition is met;\n",
        "* `fc2` applies a linear transformation to the output spikes of `lif1`;\n",
        "* `lif2` is another spiking neuron layer, integrating the weighted spikes over time."
      ]
    },
    {
      "cell_type": "markdown",
      "metadata": {
        "id": "6a7MdORCtIx4"
      },
      "source": [
        "# 7. Training the SNN"
      ]
    },
    {
      "cell_type": "markdown",
      "metadata": {
        "id": "6D-fhT3Q7nXM"
      },
      "source": [
        "## 7.1 Accuracy Metric\n",
        "Below is a function that takes a batch of data, counts up all the spikes from each neuron (i.e., a rate code over the simulation time), and compares the index of the highest count with the actual target. If they match, then the network correctly predicted the target."
      ]
    },
    {
      "cell_type": "markdown",
      "metadata": {
        "id": "woJSGSx68tsd"
      },
      "source": [
        "## 7.2 Loss Definition\n",
        "The `nn.CrossEntropyLoss` function in PyTorch automatically handles taking the softmax of the output layer as well as generating a loss at the output. "
      ]
    },
    {
      "cell_type": "markdown",
      "metadata": {
        "id": "b1fPgSoO9Jgb"
      },
      "source": [
        "## 7.3 Optimizer\n",
        "Adam is a robust optimizer that performs well on recurrent networks, so let's use that with a learning rate of $5\\times10^{-4}$. "
      ]
    },
    {
      "cell_type": "markdown",
      "metadata": {
        "id": "GiqAVKzVbfPn"
      },
      "source": [
        "## 7.4 One Iteration of Training\n",
        "Take the first batch of data and load it onto CUDA if available."
      ]
    },
    {
      "cell_type": "code",
      "execution_count": null,
      "metadata": {
        "id": "Hv1q2-Mt9kVi"
      },
      "outputs": [],
      "source": [
        "data, targets = next(iter(train_loader))\n",
        "#####################################################\n",
        "def default_pars( **kwargs):\n",
        "    pars = {}\n",
        "    \n",
        "    ### typical neuron parameters###\n",
        "    pars['V_th']    = -55. # spike threshold [mV]\n",
        "    pars['V_reset'] = -75. #reset potential [mV]\n",
        "    pars['tau_m']   = 10. # membrane time constant [ms]\n",
        "    pars['g_L']     = 10. #leak conductance [nS]\n",
        "    pars['V_init']  = -65. # initial potential [mV]\n",
        "    pars['V_L']     = -75. #leak reversal potential [mV]\n",
        "    pars['tref']    = 2. # refractory time (ms)\n",
        "\n",
        "    ### simulation parameters ###\n",
        "    pars['T'] = 400. # Total duration of simulation [ms]\n",
        "    pars['dt'] = .1  # Simulation time step [ms]\n",
        "    \n",
        "    ### external parameters if any ###\n",
        "    for k in kwargs:\n",
        "        pars[k] = kwargs[k]\n",
        "    \n",
        "    pars['range_t'] = np.arange(0, pars['T'], pars['dt']) # Vector of discretized time points [ms]\n",
        "        \n",
        "    return pars\n",
        "\n",
        "def my_GWN(pars, sig, myseed=False):\n",
        "    '''\n",
        "    Expects:\n",
        "    pars       : parameter dictionary\n",
        "    sig        : noise amplitute\n",
        "    myseed     : random seed. int or boolean\n",
        "    \n",
        "    Returns:\n",
        "    I          : Gaussian white noise input\n",
        "    '''\n",
        "    \n",
        "    # Retrieve simulation parameters\n",
        "    dt, range_t = pars['dt'], pars['range_t']\n",
        "    Lt = range_t.size\n",
        "    \n",
        "    # set random seed\n",
        "    if myseed:\n",
        "        np.random.seed(seed=myseed) \n",
        "    else:\n",
        "        np.random.seed()\n",
        "        \n",
        "    #generate GWN\n",
        "    I =  sig * np.random.normal(0, 1, size=(batch_size, 1, 28, 28)).astype('f')\n",
        "    \n",
        "    return I\n",
        "\n",
        "pars = default_pars()\n",
        "sig_ou = 0.1\n",
        "\n",
        "import random\n",
        "data += my_GWN(pars, sig=sig_ou, myseed = random.randint(1, 1000))\n",
        "#####################################################\n",
        "data = data.to(device)\n",
        "targets = targets.to(device)"
      ]
    },
    {
      "cell_type": "markdown",
      "metadata": {
        "id": "cFahTbAv-Vtt"
      },
      "source": [
        "Flatten the input data to a vector of size $784$ and pass it into the network."
      ]
    },
    {
      "cell_type": "code",
      "execution_count": null,
      "metadata": {
        "id": "lltqTEXE92V-",
        "colab": {
          "base_uri": "https://localhost:8080/"
        },
        "outputId": "da7d8471-465b-4409-9054-b0df3a078fe4"
      },
      "outputs": [
        {
          "output_type": "stream",
          "name": "stdout",
          "text": [
            "torch.Size([25, 128, 10])\n"
          ]
        }
      ],
      "source": [
        "#torch.nn.init.xavier_uniform_(tmp_fc1.weight)\n",
        "#torch.nn.init.xavier_uniform_(tmp_fc2.weight)\n",
        "spk_rec, mem_rec = net(data.view(batch_size, -1))\n",
        "print(mem_rec.size())"
      ]
    },
    {
      "cell_type": "markdown",
      "metadata": {
        "id": "wd_qv6xD-lCb"
      },
      "source": [
        "The recording of the membrane potential is taken across:\n",
        "* 25 time steps\n",
        "* 128 samples of data\n",
        "* 10 output neurons\n",
        "\n",
        "We wish to calculate the loss at every time step, and sum these up together, as per Equation $(10)$:"
      ]
    },
    {
      "cell_type": "code",
      "execution_count": null,
      "metadata": {
        "id": "nsnH8y5G-D-z",
        "colab": {
          "base_uri": "https://localhost:8080/"
        },
        "outputId": "8c773c83-443d-4978-eccb-37ffb5c0160a"
      },
      "outputs": [
        {
          "output_type": "stream",
          "name": "stdout",
          "text": [
            "Training loss: 20.289\n"
          ]
        }
      ],
      "source": [
        "# initialize the total loss value\n",
        "loss_val = torch.zeros((1), dtype=dtype, device=device)\n",
        "\n",
        "# sum loss at every step\n",
        "for step in range(num_steps):\n",
        "  loss_val += loss(mem_rec[step], targets)\n",
        "\n",
        "print(f\"Training loss: {loss_val.item():.3f}\")"
      ]
    },
    {
      "cell_type": "markdown",
      "metadata": {
        "id": "Q4r0sKMV_4ri"
      },
      "source": [
        "The loss is quite large, because it is summed over 25 time steps. The accuracy is also bad (it should be roughly around 10%) as the network is untrained:"
      ]
    },
    {
      "cell_type": "code",
      "execution_count": null,
      "metadata": {
        "id": "qetPvz7mAArd",
        "colab": {
          "base_uri": "https://localhost:8080/"
        },
        "outputId": "5e2dd5c8-400c-4ea1-f865-a662e0e79d7c"
      },
      "outputs": [
        {
          "output_type": "stream",
          "name": "stdout",
          "text": [
            "Train set accuracy for a single minibatch: 64.84%\n"
          ]
        }
      ],
      "source": [
        "print_batch_accuracy(data, targets, train=True)"
      ]
    },
    {
      "cell_type": "markdown",
      "metadata": {
        "id": "fUcR0GcUAtPn"
      },
      "source": [
        "A single weight update is applied to the network as follows:"
      ]
    },
    {
      "cell_type": "code",
      "execution_count": null,
      "metadata": {
        "id": "WxyBhsmlAsWM"
      },
      "outputs": [],
      "source": [
        "  # clear previously stored gradients\n",
        "  optimizer.zero_grad()\n",
        "\n",
        "  # calculate the gradients\n",
        "  loss_val.backward()\n",
        "\n",
        "  # weight update\n",
        "  optimizer.step()"
      ]
    },
    {
      "cell_type": "markdown",
      "metadata": {
        "id": "ubyude8eA5p9"
      },
      "source": [
        "Now, re-run the loss calculation and accuracy after a single iteration:"
      ]
    },
    {
      "cell_type": "code",
      "execution_count": null,
      "metadata": {
        "id": "l4ZquRR9A9He",
        "colab": {
          "base_uri": "https://localhost:8080/"
        },
        "outputId": "8726a67e-a884-40b6-f5f0-7dc49ac7e2aa"
      },
      "outputs": [
        {
          "output_type": "stream",
          "name": "stdout",
          "text": [
            "Training loss: 19.831\n",
            "Train set accuracy for a single minibatch: 65.62%\n"
          ]
        }
      ],
      "source": [
        "# calculate new network outputs using the same data\n",
        "spk_rec, mem_rec = net(data.view(batch_size, -1))\n",
        "\n",
        "# initialize the total loss value\n",
        "loss_val = torch.zeros((1), dtype=dtype, device=device)\n",
        "\n",
        "# sum loss at every step\n",
        "for step in range(num_steps):\n",
        "  loss_val += loss(mem_rec[step], targets)\n",
        "\n",
        "print(f\"Training loss: {loss_val.item():.3f}\")\n",
        "print_batch_accuracy(data, targets, train=True)"
      ]
    },
    {
      "cell_type": "markdown",
      "metadata": {
        "id": "fbNPCNTSBaW3"
      },
      "source": [
        "After only one iteration, the loss should have decreased and accuracy should have increased. Note how membrane potential is used to calculate the cross entropy\n",
        "loss, and spike count is used for the measure of accuracy. It is also possible to use the spike count in the loss ([see Tutorial 6](https://snntorch.readthedocs.io/en/latest/tutorials/index.html))"
      ]
    },
    {
      "cell_type": "markdown",
      "metadata": {
        "id": "mVgKDes8BiXq"
      },
      "source": [
        "## 7.5 Training Loop\n",
        "\n",
        "Let's combine everything into a training loop. We will train for one epoch (though feel free to increase `num_epochs`), exposing our network to each sample of data once."
      ]
    },
    {
      "cell_type": "markdown",
      "metadata": {
        "id": "Taf6WZLojHTz"
      },
      "source": [
        "If this was your first time training an SNN, then congratulations!"
      ]
    },
    {
      "cell_type": "markdown",
      "metadata": {
        "collapsed": false,
        "id": "HxU7P7xFpko3",
        "pycharm": {
          "name": "#%% md\n"
        }
      },
      "source": [
        "# 8. Results\n",
        "## 8.1 Plot Training/Test Loss"
      ]
    },
    {
      "cell_type": "markdown",
      "metadata": {
        "id": "g-Gd84OAl1rB"
      },
      "source": [
        "The loss curves are noisy because the losses are tracked at every iteration, rather than averaging across multiple iterations. "
      ]
    },
    {
      "cell_type": "markdown",
      "metadata": {
        "collapsed": false,
        "id": "Z3f0vBnBpkpk",
        "pycharm": {
          "name": "#%% md\n"
        }
      },
      "source": [
        "## 8.2 Test Set Accuracy\n",
        "This function iterates over all minibatches to obtain a measure of accuracy over the full 10,000 samples in the test set."
      ]
    },
    {
      "cell_type": "markdown",
      "metadata": {
        "collapsed": false,
        "id": "TBIXau4Zpkpl",
        "pycharm": {
          "name": "#%% md\n"
        }
      },
      "source": [
        "Voila! That's it for static MNIST. Feel free to tweak the network parameters, hyperparameters, decay rate, using a learning rate scheduler etc. to see if you can improve the network performance. "
      ]
    },
    {
      "cell_type": "markdown",
      "metadata": {
        "id": "s0dAgWUt2o6E"
      },
      "source": [
        "# Conclusion\n",
        "Now you know how to construct and train a fully-connected network on a static dataset. The spiking neurons can also be adapted to other layer types, including convolutions and skip connections. Armed with this knowledge, you should now be able to build many different types of SNNs. [In the next tutorial](https://snntorch.readthedocs.io/en/latest/tutorials/index.html), you will learn how to train a spiking convolutional network, and simplify the amount of code required using the `snn.backprop` module.\n",
        "\n",
        "If you like this project, please consider starring ⭐ the repo on GitHub as it is the easiest and best way to support it.\n"
      ]
    },
    {
      "cell_type": "markdown",
      "metadata": {
        "id": "ThSB-Ue3odDb"
      },
      "source": [
        "# Additional Resources\n",
        "\n",
        "* [Check out the snnTorch GitHub project here.](https://github.com/jeshraghian/snntorch)"
      ]
    }
  ],
  "metadata": {
    "accelerator": "GPU",
    "colab": {
      "name": "Gaussian white noise(epoch 3)",
      "provenance": [],
      "collapsed_sections": [],
      "include_colab_link": true
    },
    "kernelspec": {
      "display_name": "Python 3",
      "language": "python",
      "name": "python3"
    },
    "language_info": {
      "codemirror_mode": {
        "name": "ipython",
        "version": 2
      },
      "file_extension": ".py",
      "mimetype": "text/x-python",
      "name": "python",
      "nbconvert_exporter": "python",
      "pygments_lexer": "ipython2",
      "version": "2.7.6"
    },
    "widgets": {
      "application/vnd.jupyter.widget-state+json": {
        "e0b482974b79455fa96016abe7b32215": {
          "model_module": "@jupyter-widgets/controls",
          "model_name": "HBoxModel",
          "model_module_version": "1.5.0",
          "state": {
            "_view_name": "HBoxView",
            "_dom_classes": [],
            "_model_name": "HBoxModel",
            "_view_module": "@jupyter-widgets/controls",
            "_model_module_version": "1.5.0",
            "_view_count": null,
            "_view_module_version": "1.5.0",
            "box_style": "",
            "layout": "IPY_MODEL_b675f5d4b45e49f8b0c745785d46e3d9",
            "_model_module": "@jupyter-widgets/controls",
            "children": [
              "IPY_MODEL_c9b98bfc403b49648b5eb1af0d000e3d",
              "IPY_MODEL_af90640fdc2c46c0b13ac97f44ed427d",
              "IPY_MODEL_f0964b359b674df69028e220462cbc00"
            ]
          }
        },
        "b675f5d4b45e49f8b0c745785d46e3d9": {
          "model_module": "@jupyter-widgets/base",
          "model_name": "LayoutModel",
          "model_module_version": "1.2.0",
          "state": {
            "_view_name": "LayoutView",
            "grid_template_rows": null,
            "right": null,
            "justify_content": null,
            "_view_module": "@jupyter-widgets/base",
            "overflow": null,
            "_model_module_version": "1.2.0",
            "_view_count": null,
            "flex_flow": null,
            "width": null,
            "min_width": null,
            "border": null,
            "align_items": null,
            "bottom": null,
            "_model_module": "@jupyter-widgets/base",
            "top": null,
            "grid_column": null,
            "overflow_y": null,
            "overflow_x": null,
            "grid_auto_flow": null,
            "grid_area": null,
            "grid_template_columns": null,
            "flex": null,
            "_model_name": "LayoutModel",
            "justify_items": null,
            "grid_row": null,
            "max_height": null,
            "align_content": null,
            "visibility": null,
            "align_self": null,
            "height": null,
            "min_height": null,
            "padding": null,
            "grid_auto_rows": null,
            "grid_gap": null,
            "max_width": null,
            "order": null,
            "_view_module_version": "1.2.0",
            "grid_template_areas": null,
            "object_position": null,
            "object_fit": null,
            "grid_auto_columns": null,
            "margin": null,
            "display": null,
            "left": null
          }
        },
        "c9b98bfc403b49648b5eb1af0d000e3d": {
          "model_module": "@jupyter-widgets/controls",
          "model_name": "HTMLModel",
          "model_module_version": "1.5.0",
          "state": {
            "_view_name": "HTMLView",
            "style": "IPY_MODEL_dc940548a0c74f6d884de3bdee31cbe1",
            "_dom_classes": [],
            "description": "",
            "_model_name": "HTMLModel",
            "placeholder": "​",
            "_view_module": "@jupyter-widgets/controls",
            "_model_module_version": "1.5.0",
            "value": "",
            "_view_count": null,
            "_view_module_version": "1.5.0",
            "description_tooltip": null,
            "_model_module": "@jupyter-widgets/controls",
            "layout": "IPY_MODEL_4582c6c78d88478a8dbe1883883b72a3"
          }
        },
        "af90640fdc2c46c0b13ac97f44ed427d": {
          "model_module": "@jupyter-widgets/controls",
          "model_name": "FloatProgressModel",
          "model_module_version": "1.5.0",
          "state": {
            "_view_name": "ProgressView",
            "style": "IPY_MODEL_7c8fb569a4b247ac82ccbc61532b0cec",
            "_dom_classes": [],
            "description": "",
            "_model_name": "FloatProgressModel",
            "bar_style": "success",
            "max": 9912422,
            "_view_module": "@jupyter-widgets/controls",
            "_model_module_version": "1.5.0",
            "value": 9912422,
            "_view_count": null,
            "_view_module_version": "1.5.0",
            "orientation": "horizontal",
            "min": 0,
            "description_tooltip": null,
            "_model_module": "@jupyter-widgets/controls",
            "layout": "IPY_MODEL_011199de04de42a3af2786101b665c2e"
          }
        },
        "f0964b359b674df69028e220462cbc00": {
          "model_module": "@jupyter-widgets/controls",
          "model_name": "HTMLModel",
          "model_module_version": "1.5.0",
          "state": {
            "_view_name": "HTMLView",
            "style": "IPY_MODEL_4ec8801434fb4faab573164e7c9c7ffa",
            "_dom_classes": [],
            "description": "",
            "_model_name": "HTMLModel",
            "placeholder": "​",
            "_view_module": "@jupyter-widgets/controls",
            "_model_module_version": "1.5.0",
            "value": " 9913344/? [00:00&lt;00:00, 20817195.37it/s]",
            "_view_count": null,
            "_view_module_version": "1.5.0",
            "description_tooltip": null,
            "_model_module": "@jupyter-widgets/controls",
            "layout": "IPY_MODEL_72d3ce0b09904c9ca05deee96cac21f0"
          }
        },
        "dc940548a0c74f6d884de3bdee31cbe1": {
          "model_module": "@jupyter-widgets/controls",
          "model_name": "DescriptionStyleModel",
          "model_module_version": "1.5.0",
          "state": {
            "_view_name": "StyleView",
            "_model_name": "DescriptionStyleModel",
            "description_width": "",
            "_view_module": "@jupyter-widgets/base",
            "_model_module_version": "1.5.0",
            "_view_count": null,
            "_view_module_version": "1.2.0",
            "_model_module": "@jupyter-widgets/controls"
          }
        },
        "4582c6c78d88478a8dbe1883883b72a3": {
          "model_module": "@jupyter-widgets/base",
          "model_name": "LayoutModel",
          "model_module_version": "1.2.0",
          "state": {
            "_view_name": "LayoutView",
            "grid_template_rows": null,
            "right": null,
            "justify_content": null,
            "_view_module": "@jupyter-widgets/base",
            "overflow": null,
            "_model_module_version": "1.2.0",
            "_view_count": null,
            "flex_flow": null,
            "width": null,
            "min_width": null,
            "border": null,
            "align_items": null,
            "bottom": null,
            "_model_module": "@jupyter-widgets/base",
            "top": null,
            "grid_column": null,
            "overflow_y": null,
            "overflow_x": null,
            "grid_auto_flow": null,
            "grid_area": null,
            "grid_template_columns": null,
            "flex": null,
            "_model_name": "LayoutModel",
            "justify_items": null,
            "grid_row": null,
            "max_height": null,
            "align_content": null,
            "visibility": null,
            "align_self": null,
            "height": null,
            "min_height": null,
            "padding": null,
            "grid_auto_rows": null,
            "grid_gap": null,
            "max_width": null,
            "order": null,
            "_view_module_version": "1.2.0",
            "grid_template_areas": null,
            "object_position": null,
            "object_fit": null,
            "grid_auto_columns": null,
            "margin": null,
            "display": null,
            "left": null
          }
        },
        "7c8fb569a4b247ac82ccbc61532b0cec": {
          "model_module": "@jupyter-widgets/controls",
          "model_name": "ProgressStyleModel",
          "model_module_version": "1.5.0",
          "state": {
            "_view_name": "StyleView",
            "_model_name": "ProgressStyleModel",
            "description_width": "",
            "_view_module": "@jupyter-widgets/base",
            "_model_module_version": "1.5.0",
            "_view_count": null,
            "_view_module_version": "1.2.0",
            "bar_color": null,
            "_model_module": "@jupyter-widgets/controls"
          }
        },
        "011199de04de42a3af2786101b665c2e": {
          "model_module": "@jupyter-widgets/base",
          "model_name": "LayoutModel",
          "model_module_version": "1.2.0",
          "state": {
            "_view_name": "LayoutView",
            "grid_template_rows": null,
            "right": null,
            "justify_content": null,
            "_view_module": "@jupyter-widgets/base",
            "overflow": null,
            "_model_module_version": "1.2.0",
            "_view_count": null,
            "flex_flow": null,
            "width": null,
            "min_width": null,
            "border": null,
            "align_items": null,
            "bottom": null,
            "_model_module": "@jupyter-widgets/base",
            "top": null,
            "grid_column": null,
            "overflow_y": null,
            "overflow_x": null,
            "grid_auto_flow": null,
            "grid_area": null,
            "grid_template_columns": null,
            "flex": null,
            "_model_name": "LayoutModel",
            "justify_items": null,
            "grid_row": null,
            "max_height": null,
            "align_content": null,
            "visibility": null,
            "align_self": null,
            "height": null,
            "min_height": null,
            "padding": null,
            "grid_auto_rows": null,
            "grid_gap": null,
            "max_width": null,
            "order": null,
            "_view_module_version": "1.2.0",
            "grid_template_areas": null,
            "object_position": null,
            "object_fit": null,
            "grid_auto_columns": null,
            "margin": null,
            "display": null,
            "left": null
          }
        },
        "4ec8801434fb4faab573164e7c9c7ffa": {
          "model_module": "@jupyter-widgets/controls",
          "model_name": "DescriptionStyleModel",
          "model_module_version": "1.5.0",
          "state": {
            "_view_name": "StyleView",
            "_model_name": "DescriptionStyleModel",
            "description_width": "",
            "_view_module": "@jupyter-widgets/base",
            "_model_module_version": "1.5.0",
            "_view_count": null,
            "_view_module_version": "1.2.0",
            "_model_module": "@jupyter-widgets/controls"
          }
        },
        "72d3ce0b09904c9ca05deee96cac21f0": {
          "model_module": "@jupyter-widgets/base",
          "model_name": "LayoutModel",
          "model_module_version": "1.2.0",
          "state": {
            "_view_name": "LayoutView",
            "grid_template_rows": null,
            "right": null,
            "justify_content": null,
            "_view_module": "@jupyter-widgets/base",
            "overflow": null,
            "_model_module_version": "1.2.0",
            "_view_count": null,
            "flex_flow": null,
            "width": null,
            "min_width": null,
            "border": null,
            "align_items": null,
            "bottom": null,
            "_model_module": "@jupyter-widgets/base",
            "top": null,
            "grid_column": null,
            "overflow_y": null,
            "overflow_x": null,
            "grid_auto_flow": null,
            "grid_area": null,
            "grid_template_columns": null,
            "flex": null,
            "_model_name": "LayoutModel",
            "justify_items": null,
            "grid_row": null,
            "max_height": null,
            "align_content": null,
            "visibility": null,
            "align_self": null,
            "height": null,
            "min_height": null,
            "padding": null,
            "grid_auto_rows": null,
            "grid_gap": null,
            "max_width": null,
            "order": null,
            "_view_module_version": "1.2.0",
            "grid_template_areas": null,
            "object_position": null,
            "object_fit": null,
            "grid_auto_columns": null,
            "margin": null,
            "display": null,
            "left": null
          }
        },
        "bbdd2c7b7d5c4753b993359e6adc94a7": {
          "model_module": "@jupyter-widgets/controls",
          "model_name": "HBoxModel",
          "model_module_version": "1.5.0",
          "state": {
            "_view_name": "HBoxView",
            "_dom_classes": [],
            "_model_name": "HBoxModel",
            "_view_module": "@jupyter-widgets/controls",
            "_model_module_version": "1.5.0",
            "_view_count": null,
            "_view_module_version": "1.5.0",
            "box_style": "",
            "layout": "IPY_MODEL_466598f70e444dcd997602f48077ebbb",
            "_model_module": "@jupyter-widgets/controls",
            "children": [
              "IPY_MODEL_49269ece9d6a4c2eb0f6b4bb60437035",
              "IPY_MODEL_89c886d5586d473b96500eb620a144ea",
              "IPY_MODEL_fcbaa1cf94ba46d590ce66d896788b7f"
            ]
          }
        },
        "466598f70e444dcd997602f48077ebbb": {
          "model_module": "@jupyter-widgets/base",
          "model_name": "LayoutModel",
          "model_module_version": "1.2.0",
          "state": {
            "_view_name": "LayoutView",
            "grid_template_rows": null,
            "right": null,
            "justify_content": null,
            "_view_module": "@jupyter-widgets/base",
            "overflow": null,
            "_model_module_version": "1.2.0",
            "_view_count": null,
            "flex_flow": null,
            "width": null,
            "min_width": null,
            "border": null,
            "align_items": null,
            "bottom": null,
            "_model_module": "@jupyter-widgets/base",
            "top": null,
            "grid_column": null,
            "overflow_y": null,
            "overflow_x": null,
            "grid_auto_flow": null,
            "grid_area": null,
            "grid_template_columns": null,
            "flex": null,
            "_model_name": "LayoutModel",
            "justify_items": null,
            "grid_row": null,
            "max_height": null,
            "align_content": null,
            "visibility": null,
            "align_self": null,
            "height": null,
            "min_height": null,
            "padding": null,
            "grid_auto_rows": null,
            "grid_gap": null,
            "max_width": null,
            "order": null,
            "_view_module_version": "1.2.0",
            "grid_template_areas": null,
            "object_position": null,
            "object_fit": null,
            "grid_auto_columns": null,
            "margin": null,
            "display": null,
            "left": null
          }
        },
        "49269ece9d6a4c2eb0f6b4bb60437035": {
          "model_module": "@jupyter-widgets/controls",
          "model_name": "HTMLModel",
          "model_module_version": "1.5.0",
          "state": {
            "_view_name": "HTMLView",
            "style": "IPY_MODEL_565fde0e28a446a981c26e2ee9e22dad",
            "_dom_classes": [],
            "description": "",
            "_model_name": "HTMLModel",
            "placeholder": "​",
            "_view_module": "@jupyter-widgets/controls",
            "_model_module_version": "1.5.0",
            "value": "",
            "_view_count": null,
            "_view_module_version": "1.5.0",
            "description_tooltip": null,
            "_model_module": "@jupyter-widgets/controls",
            "layout": "IPY_MODEL_760bcff1ddaa47f39a3131c0fedb90bc"
          }
        },
        "89c886d5586d473b96500eb620a144ea": {
          "model_module": "@jupyter-widgets/controls",
          "model_name": "FloatProgressModel",
          "model_module_version": "1.5.0",
          "state": {
            "_view_name": "ProgressView",
            "style": "IPY_MODEL_76f5d455a2564c1497f8d63e77305c4c",
            "_dom_classes": [],
            "description": "",
            "_model_name": "FloatProgressModel",
            "bar_style": "success",
            "max": 28881,
            "_view_module": "@jupyter-widgets/controls",
            "_model_module_version": "1.5.0",
            "value": 28881,
            "_view_count": null,
            "_view_module_version": "1.5.0",
            "orientation": "horizontal",
            "min": 0,
            "description_tooltip": null,
            "_model_module": "@jupyter-widgets/controls",
            "layout": "IPY_MODEL_db62a8accc8944228663387b2fd5ae84"
          }
        },
        "fcbaa1cf94ba46d590ce66d896788b7f": {
          "model_module": "@jupyter-widgets/controls",
          "model_name": "HTMLModel",
          "model_module_version": "1.5.0",
          "state": {
            "_view_name": "HTMLView",
            "style": "IPY_MODEL_abeacfaaae9a4a77bdf1c3f93ba9b0e7",
            "_dom_classes": [],
            "description": "",
            "_model_name": "HTMLModel",
            "placeholder": "​",
            "_view_module": "@jupyter-widgets/controls",
            "_model_module_version": "1.5.0",
            "value": " 29696/? [00:00&lt;00:00, 742148.57it/s]",
            "_view_count": null,
            "_view_module_version": "1.5.0",
            "description_tooltip": null,
            "_model_module": "@jupyter-widgets/controls",
            "layout": "IPY_MODEL_f0826037ed434cd8b169228888d6305a"
          }
        },
        "565fde0e28a446a981c26e2ee9e22dad": {
          "model_module": "@jupyter-widgets/controls",
          "model_name": "DescriptionStyleModel",
          "model_module_version": "1.5.0",
          "state": {
            "_view_name": "StyleView",
            "_model_name": "DescriptionStyleModel",
            "description_width": "",
            "_view_module": "@jupyter-widgets/base",
            "_model_module_version": "1.5.0",
            "_view_count": null,
            "_view_module_version": "1.2.0",
            "_model_module": "@jupyter-widgets/controls"
          }
        },
        "760bcff1ddaa47f39a3131c0fedb90bc": {
          "model_module": "@jupyter-widgets/base",
          "model_name": "LayoutModel",
          "model_module_version": "1.2.0",
          "state": {
            "_view_name": "LayoutView",
            "grid_template_rows": null,
            "right": null,
            "justify_content": null,
            "_view_module": "@jupyter-widgets/base",
            "overflow": null,
            "_model_module_version": "1.2.0",
            "_view_count": null,
            "flex_flow": null,
            "width": null,
            "min_width": null,
            "border": null,
            "align_items": null,
            "bottom": null,
            "_model_module": "@jupyter-widgets/base",
            "top": null,
            "grid_column": null,
            "overflow_y": null,
            "overflow_x": null,
            "grid_auto_flow": null,
            "grid_area": null,
            "grid_template_columns": null,
            "flex": null,
            "_model_name": "LayoutModel",
            "justify_items": null,
            "grid_row": null,
            "max_height": null,
            "align_content": null,
            "visibility": null,
            "align_self": null,
            "height": null,
            "min_height": null,
            "padding": null,
            "grid_auto_rows": null,
            "grid_gap": null,
            "max_width": null,
            "order": null,
            "_view_module_version": "1.2.0",
            "grid_template_areas": null,
            "object_position": null,
            "object_fit": null,
            "grid_auto_columns": null,
            "margin": null,
            "display": null,
            "left": null
          }
        },
        "76f5d455a2564c1497f8d63e77305c4c": {
          "model_module": "@jupyter-widgets/controls",
          "model_name": "ProgressStyleModel",
          "model_module_version": "1.5.0",
          "state": {
            "_view_name": "StyleView",
            "_model_name": "ProgressStyleModel",
            "description_width": "",
            "_view_module": "@jupyter-widgets/base",
            "_model_module_version": "1.5.0",
            "_view_count": null,
            "_view_module_version": "1.2.0",
            "bar_color": null,
            "_model_module": "@jupyter-widgets/controls"
          }
        },
        "db62a8accc8944228663387b2fd5ae84": {
          "model_module": "@jupyter-widgets/base",
          "model_name": "LayoutModel",
          "model_module_version": "1.2.0",
          "state": {
            "_view_name": "LayoutView",
            "grid_template_rows": null,
            "right": null,
            "justify_content": null,
            "_view_module": "@jupyter-widgets/base",
            "overflow": null,
            "_model_module_version": "1.2.0",
            "_view_count": null,
            "flex_flow": null,
            "width": null,
            "min_width": null,
            "border": null,
            "align_items": null,
            "bottom": null,
            "_model_module": "@jupyter-widgets/base",
            "top": null,
            "grid_column": null,
            "overflow_y": null,
            "overflow_x": null,
            "grid_auto_flow": null,
            "grid_area": null,
            "grid_template_columns": null,
            "flex": null,
            "_model_name": "LayoutModel",
            "justify_items": null,
            "grid_row": null,
            "max_height": null,
            "align_content": null,
            "visibility": null,
            "align_self": null,
            "height": null,
            "min_height": null,
            "padding": null,
            "grid_auto_rows": null,
            "grid_gap": null,
            "max_width": null,
            "order": null,
            "_view_module_version": "1.2.0",
            "grid_template_areas": null,
            "object_position": null,
            "object_fit": null,
            "grid_auto_columns": null,
            "margin": null,
            "display": null,
            "left": null
          }
        },
        "abeacfaaae9a4a77bdf1c3f93ba9b0e7": {
          "model_module": "@jupyter-widgets/controls",
          "model_name": "DescriptionStyleModel",
          "model_module_version": "1.5.0",
          "state": {
            "_view_name": "StyleView",
            "_model_name": "DescriptionStyleModel",
            "description_width": "",
            "_view_module": "@jupyter-widgets/base",
            "_model_module_version": "1.5.0",
            "_view_count": null,
            "_view_module_version": "1.2.0",
            "_model_module": "@jupyter-widgets/controls"
          }
        },
        "f0826037ed434cd8b169228888d6305a": {
          "model_module": "@jupyter-widgets/base",
          "model_name": "LayoutModel",
          "model_module_version": "1.2.0",
          "state": {
            "_view_name": "LayoutView",
            "grid_template_rows": null,
            "right": null,
            "justify_content": null,
            "_view_module": "@jupyter-widgets/base",
            "overflow": null,
            "_model_module_version": "1.2.0",
            "_view_count": null,
            "flex_flow": null,
            "width": null,
            "min_width": null,
            "border": null,
            "align_items": null,
            "bottom": null,
            "_model_module": "@jupyter-widgets/base",
            "top": null,
            "grid_column": null,
            "overflow_y": null,
            "overflow_x": null,
            "grid_auto_flow": null,
            "grid_area": null,
            "grid_template_columns": null,
            "flex": null,
            "_model_name": "LayoutModel",
            "justify_items": null,
            "grid_row": null,
            "max_height": null,
            "align_content": null,
            "visibility": null,
            "align_self": null,
            "height": null,
            "min_height": null,
            "padding": null,
            "grid_auto_rows": null,
            "grid_gap": null,
            "max_width": null,
            "order": null,
            "_view_module_version": "1.2.0",
            "grid_template_areas": null,
            "object_position": null,
            "object_fit": null,
            "grid_auto_columns": null,
            "margin": null,
            "display": null,
            "left": null
          }
        },
        "c98e98043fb54dd0a7bda0f5d61b4179": {
          "model_module": "@jupyter-widgets/controls",
          "model_name": "HBoxModel",
          "model_module_version": "1.5.0",
          "state": {
            "_view_name": "HBoxView",
            "_dom_classes": [],
            "_model_name": "HBoxModel",
            "_view_module": "@jupyter-widgets/controls",
            "_model_module_version": "1.5.0",
            "_view_count": null,
            "_view_module_version": "1.5.0",
            "box_style": "",
            "layout": "IPY_MODEL_d6b703dcecca48428cf4a3182619a758",
            "_model_module": "@jupyter-widgets/controls",
            "children": [
              "IPY_MODEL_e93a90b9cade4d25af3da13794cb5beb",
              "IPY_MODEL_424c4267c0a647928fd4c1cba7a6b0d2",
              "IPY_MODEL_29562dc61767414a9ffcf0b7e333950b"
            ]
          }
        },
        "d6b703dcecca48428cf4a3182619a758": {
          "model_module": "@jupyter-widgets/base",
          "model_name": "LayoutModel",
          "model_module_version": "1.2.0",
          "state": {
            "_view_name": "LayoutView",
            "grid_template_rows": null,
            "right": null,
            "justify_content": null,
            "_view_module": "@jupyter-widgets/base",
            "overflow": null,
            "_model_module_version": "1.2.0",
            "_view_count": null,
            "flex_flow": null,
            "width": null,
            "min_width": null,
            "border": null,
            "align_items": null,
            "bottom": null,
            "_model_module": "@jupyter-widgets/base",
            "top": null,
            "grid_column": null,
            "overflow_y": null,
            "overflow_x": null,
            "grid_auto_flow": null,
            "grid_area": null,
            "grid_template_columns": null,
            "flex": null,
            "_model_name": "LayoutModel",
            "justify_items": null,
            "grid_row": null,
            "max_height": null,
            "align_content": null,
            "visibility": null,
            "align_self": null,
            "height": null,
            "min_height": null,
            "padding": null,
            "grid_auto_rows": null,
            "grid_gap": null,
            "max_width": null,
            "order": null,
            "_view_module_version": "1.2.0",
            "grid_template_areas": null,
            "object_position": null,
            "object_fit": null,
            "grid_auto_columns": null,
            "margin": null,
            "display": null,
            "left": null
          }
        },
        "e93a90b9cade4d25af3da13794cb5beb": {
          "model_module": "@jupyter-widgets/controls",
          "model_name": "HTMLModel",
          "model_module_version": "1.5.0",
          "state": {
            "_view_name": "HTMLView",
            "style": "IPY_MODEL_73a898215e6d477bac53b8c646192648",
            "_dom_classes": [],
            "description": "",
            "_model_name": "HTMLModel",
            "placeholder": "​",
            "_view_module": "@jupyter-widgets/controls",
            "_model_module_version": "1.5.0",
            "value": "",
            "_view_count": null,
            "_view_module_version": "1.5.0",
            "description_tooltip": null,
            "_model_module": "@jupyter-widgets/controls",
            "layout": "IPY_MODEL_1b0d9075d9114f1e9664d91659693f17"
          }
        },
        "424c4267c0a647928fd4c1cba7a6b0d2": {
          "model_module": "@jupyter-widgets/controls",
          "model_name": "FloatProgressModel",
          "model_module_version": "1.5.0",
          "state": {
            "_view_name": "ProgressView",
            "style": "IPY_MODEL_50daa27afc44401e955a17df44a50a7d",
            "_dom_classes": [],
            "description": "",
            "_model_name": "FloatProgressModel",
            "bar_style": "success",
            "max": 1648877,
            "_view_module": "@jupyter-widgets/controls",
            "_model_module_version": "1.5.0",
            "value": 1648877,
            "_view_count": null,
            "_view_module_version": "1.5.0",
            "orientation": "horizontal",
            "min": 0,
            "description_tooltip": null,
            "_model_module": "@jupyter-widgets/controls",
            "layout": "IPY_MODEL_3d87ea6367074365a4d204a93fda7235"
          }
        },
        "29562dc61767414a9ffcf0b7e333950b": {
          "model_module": "@jupyter-widgets/controls",
          "model_name": "HTMLModel",
          "model_module_version": "1.5.0",
          "state": {
            "_view_name": "HTMLView",
            "style": "IPY_MODEL_07319c982734410c8df75c5828a42b81",
            "_dom_classes": [],
            "description": "",
            "_model_name": "HTMLModel",
            "placeholder": "​",
            "_view_module": "@jupyter-widgets/controls",
            "_model_module_version": "1.5.0",
            "value": " 1649664/? [00:00&lt;00:00, 20370516.75it/s]",
            "_view_count": null,
            "_view_module_version": "1.5.0",
            "description_tooltip": null,
            "_model_module": "@jupyter-widgets/controls",
            "layout": "IPY_MODEL_28c2515d9e154b3b9a6c2aa6ecb63bfb"
          }
        },
        "73a898215e6d477bac53b8c646192648": {
          "model_module": "@jupyter-widgets/controls",
          "model_name": "DescriptionStyleModel",
          "model_module_version": "1.5.0",
          "state": {
            "_view_name": "StyleView",
            "_model_name": "DescriptionStyleModel",
            "description_width": "",
            "_view_module": "@jupyter-widgets/base",
            "_model_module_version": "1.5.0",
            "_view_count": null,
            "_view_module_version": "1.2.0",
            "_model_module": "@jupyter-widgets/controls"
          }
        },
        "1b0d9075d9114f1e9664d91659693f17": {
          "model_module": "@jupyter-widgets/base",
          "model_name": "LayoutModel",
          "model_module_version": "1.2.0",
          "state": {
            "_view_name": "LayoutView",
            "grid_template_rows": null,
            "right": null,
            "justify_content": null,
            "_view_module": "@jupyter-widgets/base",
            "overflow": null,
            "_model_module_version": "1.2.0",
            "_view_count": null,
            "flex_flow": null,
            "width": null,
            "min_width": null,
            "border": null,
            "align_items": null,
            "bottom": null,
            "_model_module": "@jupyter-widgets/base",
            "top": null,
            "grid_column": null,
            "overflow_y": null,
            "overflow_x": null,
            "grid_auto_flow": null,
            "grid_area": null,
            "grid_template_columns": null,
            "flex": null,
            "_model_name": "LayoutModel",
            "justify_items": null,
            "grid_row": null,
            "max_height": null,
            "align_content": null,
            "visibility": null,
            "align_self": null,
            "height": null,
            "min_height": null,
            "padding": null,
            "grid_auto_rows": null,
            "grid_gap": null,
            "max_width": null,
            "order": null,
            "_view_module_version": "1.2.0",
            "grid_template_areas": null,
            "object_position": null,
            "object_fit": null,
            "grid_auto_columns": null,
            "margin": null,
            "display": null,
            "left": null
          }
        },
        "50daa27afc44401e955a17df44a50a7d": {
          "model_module": "@jupyter-widgets/controls",
          "model_name": "ProgressStyleModel",
          "model_module_version": "1.5.0",
          "state": {
            "_view_name": "StyleView",
            "_model_name": "ProgressStyleModel",
            "description_width": "",
            "_view_module": "@jupyter-widgets/base",
            "_model_module_version": "1.5.0",
            "_view_count": null,
            "_view_module_version": "1.2.0",
            "bar_color": null,
            "_model_module": "@jupyter-widgets/controls"
          }
        },
        "3d87ea6367074365a4d204a93fda7235": {
          "model_module": "@jupyter-widgets/base",
          "model_name": "LayoutModel",
          "model_module_version": "1.2.0",
          "state": {
            "_view_name": "LayoutView",
            "grid_template_rows": null,
            "right": null,
            "justify_content": null,
            "_view_module": "@jupyter-widgets/base",
            "overflow": null,
            "_model_module_version": "1.2.0",
            "_view_count": null,
            "flex_flow": null,
            "width": null,
            "min_width": null,
            "border": null,
            "align_items": null,
            "bottom": null,
            "_model_module": "@jupyter-widgets/base",
            "top": null,
            "grid_column": null,
            "overflow_y": null,
            "overflow_x": null,
            "grid_auto_flow": null,
            "grid_area": null,
            "grid_template_columns": null,
            "flex": null,
            "_model_name": "LayoutModel",
            "justify_items": null,
            "grid_row": null,
            "max_height": null,
            "align_content": null,
            "visibility": null,
            "align_self": null,
            "height": null,
            "min_height": null,
            "padding": null,
            "grid_auto_rows": null,
            "grid_gap": null,
            "max_width": null,
            "order": null,
            "_view_module_version": "1.2.0",
            "grid_template_areas": null,
            "object_position": null,
            "object_fit": null,
            "grid_auto_columns": null,
            "margin": null,
            "display": null,
            "left": null
          }
        },
        "07319c982734410c8df75c5828a42b81": {
          "model_module": "@jupyter-widgets/controls",
          "model_name": "DescriptionStyleModel",
          "model_module_version": "1.5.0",
          "state": {
            "_view_name": "StyleView",
            "_model_name": "DescriptionStyleModel",
            "description_width": "",
            "_view_module": "@jupyter-widgets/base",
            "_model_module_version": "1.5.0",
            "_view_count": null,
            "_view_module_version": "1.2.0",
            "_model_module": "@jupyter-widgets/controls"
          }
        },
        "28c2515d9e154b3b9a6c2aa6ecb63bfb": {
          "model_module": "@jupyter-widgets/base",
          "model_name": "LayoutModel",
          "model_module_version": "1.2.0",
          "state": {
            "_view_name": "LayoutView",
            "grid_template_rows": null,
            "right": null,
            "justify_content": null,
            "_view_module": "@jupyter-widgets/base",
            "overflow": null,
            "_model_module_version": "1.2.0",
            "_view_count": null,
            "flex_flow": null,
            "width": null,
            "min_width": null,
            "border": null,
            "align_items": null,
            "bottom": null,
            "_model_module": "@jupyter-widgets/base",
            "top": null,
            "grid_column": null,
            "overflow_y": null,
            "overflow_x": null,
            "grid_auto_flow": null,
            "grid_area": null,
            "grid_template_columns": null,
            "flex": null,
            "_model_name": "LayoutModel",
            "justify_items": null,
            "grid_row": null,
            "max_height": null,
            "align_content": null,
            "visibility": null,
            "align_self": null,
            "height": null,
            "min_height": null,
            "padding": null,
            "grid_auto_rows": null,
            "grid_gap": null,
            "max_width": null,
            "order": null,
            "_view_module_version": "1.2.0",
            "grid_template_areas": null,
            "object_position": null,
            "object_fit": null,
            "grid_auto_columns": null,
            "margin": null,
            "display": null,
            "left": null
          }
        },
        "622feade20a3449484556333db221838": {
          "model_module": "@jupyter-widgets/controls",
          "model_name": "HBoxModel",
          "model_module_version": "1.5.0",
          "state": {
            "_view_name": "HBoxView",
            "_dom_classes": [],
            "_model_name": "HBoxModel",
            "_view_module": "@jupyter-widgets/controls",
            "_model_module_version": "1.5.0",
            "_view_count": null,
            "_view_module_version": "1.5.0",
            "box_style": "",
            "layout": "IPY_MODEL_a8c0e0035b5045b48287b4d517fb64f2",
            "_model_module": "@jupyter-widgets/controls",
            "children": [
              "IPY_MODEL_7a81f2f469514d04b74c78543aa24ae0",
              "IPY_MODEL_b58f148edd614c83998d6befc23426f8",
              "IPY_MODEL_3df3dc795a8846849c4e8a6c80e1b74a"
            ]
          }
        },
        "a8c0e0035b5045b48287b4d517fb64f2": {
          "model_module": "@jupyter-widgets/base",
          "model_name": "LayoutModel",
          "model_module_version": "1.2.0",
          "state": {
            "_view_name": "LayoutView",
            "grid_template_rows": null,
            "right": null,
            "justify_content": null,
            "_view_module": "@jupyter-widgets/base",
            "overflow": null,
            "_model_module_version": "1.2.0",
            "_view_count": null,
            "flex_flow": null,
            "width": null,
            "min_width": null,
            "border": null,
            "align_items": null,
            "bottom": null,
            "_model_module": "@jupyter-widgets/base",
            "top": null,
            "grid_column": null,
            "overflow_y": null,
            "overflow_x": null,
            "grid_auto_flow": null,
            "grid_area": null,
            "grid_template_columns": null,
            "flex": null,
            "_model_name": "LayoutModel",
            "justify_items": null,
            "grid_row": null,
            "max_height": null,
            "align_content": null,
            "visibility": null,
            "align_self": null,
            "height": null,
            "min_height": null,
            "padding": null,
            "grid_auto_rows": null,
            "grid_gap": null,
            "max_width": null,
            "order": null,
            "_view_module_version": "1.2.0",
            "grid_template_areas": null,
            "object_position": null,
            "object_fit": null,
            "grid_auto_columns": null,
            "margin": null,
            "display": null,
            "left": null
          }
        },
        "7a81f2f469514d04b74c78543aa24ae0": {
          "model_module": "@jupyter-widgets/controls",
          "model_name": "HTMLModel",
          "model_module_version": "1.5.0",
          "state": {
            "_view_name": "HTMLView",
            "style": "IPY_MODEL_6ff969b27ba844fea292fe85b234104e",
            "_dom_classes": [],
            "description": "",
            "_model_name": "HTMLModel",
            "placeholder": "​",
            "_view_module": "@jupyter-widgets/controls",
            "_model_module_version": "1.5.0",
            "value": "",
            "_view_count": null,
            "_view_module_version": "1.5.0",
            "description_tooltip": null,
            "_model_module": "@jupyter-widgets/controls",
            "layout": "IPY_MODEL_51f7173aa99e4809b3b48da7c41fa26c"
          }
        },
        "b58f148edd614c83998d6befc23426f8": {
          "model_module": "@jupyter-widgets/controls",
          "model_name": "FloatProgressModel",
          "model_module_version": "1.5.0",
          "state": {
            "_view_name": "ProgressView",
            "style": "IPY_MODEL_701b7f6e67f74c1cbdacea5c1008eb26",
            "_dom_classes": [],
            "description": "",
            "_model_name": "FloatProgressModel",
            "bar_style": "success",
            "max": 4542,
            "_view_module": "@jupyter-widgets/controls",
            "_model_module_version": "1.5.0",
            "value": 4542,
            "_view_count": null,
            "_view_module_version": "1.5.0",
            "orientation": "horizontal",
            "min": 0,
            "description_tooltip": null,
            "_model_module": "@jupyter-widgets/controls",
            "layout": "IPY_MODEL_2bb417f1a46a46ef8cbba6f009bdd9f4"
          }
        },
        "3df3dc795a8846849c4e8a6c80e1b74a": {
          "model_module": "@jupyter-widgets/controls",
          "model_name": "HTMLModel",
          "model_module_version": "1.5.0",
          "state": {
            "_view_name": "HTMLView",
            "style": "IPY_MODEL_f79d9f9f2f9c487786c94d17b2b7a9d4",
            "_dom_classes": [],
            "description": "",
            "_model_name": "HTMLModel",
            "placeholder": "​",
            "_view_module": "@jupyter-widgets/controls",
            "_model_module_version": "1.5.0",
            "value": " 5120/? [00:00&lt;00:00, 129133.11it/s]",
            "_view_count": null,
            "_view_module_version": "1.5.0",
            "description_tooltip": null,
            "_model_module": "@jupyter-widgets/controls",
            "layout": "IPY_MODEL_59c5599f382a4566a7be569c2d4d2c84"
          }
        },
        "6ff969b27ba844fea292fe85b234104e": {
          "model_module": "@jupyter-widgets/controls",
          "model_name": "DescriptionStyleModel",
          "model_module_version": "1.5.0",
          "state": {
            "_view_name": "StyleView",
            "_model_name": "DescriptionStyleModel",
            "description_width": "",
            "_view_module": "@jupyter-widgets/base",
            "_model_module_version": "1.5.0",
            "_view_count": null,
            "_view_module_version": "1.2.0",
            "_model_module": "@jupyter-widgets/controls"
          }
        },
        "51f7173aa99e4809b3b48da7c41fa26c": {
          "model_module": "@jupyter-widgets/base",
          "model_name": "LayoutModel",
          "model_module_version": "1.2.0",
          "state": {
            "_view_name": "LayoutView",
            "grid_template_rows": null,
            "right": null,
            "justify_content": null,
            "_view_module": "@jupyter-widgets/base",
            "overflow": null,
            "_model_module_version": "1.2.0",
            "_view_count": null,
            "flex_flow": null,
            "width": null,
            "min_width": null,
            "border": null,
            "align_items": null,
            "bottom": null,
            "_model_module": "@jupyter-widgets/base",
            "top": null,
            "grid_column": null,
            "overflow_y": null,
            "overflow_x": null,
            "grid_auto_flow": null,
            "grid_area": null,
            "grid_template_columns": null,
            "flex": null,
            "_model_name": "LayoutModel",
            "justify_items": null,
            "grid_row": null,
            "max_height": null,
            "align_content": null,
            "visibility": null,
            "align_self": null,
            "height": null,
            "min_height": null,
            "padding": null,
            "grid_auto_rows": null,
            "grid_gap": null,
            "max_width": null,
            "order": null,
            "_view_module_version": "1.2.0",
            "grid_template_areas": null,
            "object_position": null,
            "object_fit": null,
            "grid_auto_columns": null,
            "margin": null,
            "display": null,
            "left": null
          }
        },
        "701b7f6e67f74c1cbdacea5c1008eb26": {
          "model_module": "@jupyter-widgets/controls",
          "model_name": "ProgressStyleModel",
          "model_module_version": "1.5.0",
          "state": {
            "_view_name": "StyleView",
            "_model_name": "ProgressStyleModel",
            "description_width": "",
            "_view_module": "@jupyter-widgets/base",
            "_model_module_version": "1.5.0",
            "_view_count": null,
            "_view_module_version": "1.2.0",
            "bar_color": null,
            "_model_module": "@jupyter-widgets/controls"
          }
        },
        "2bb417f1a46a46ef8cbba6f009bdd9f4": {
          "model_module": "@jupyter-widgets/base",
          "model_name": "LayoutModel",
          "model_module_version": "1.2.0",
          "state": {
            "_view_name": "LayoutView",
            "grid_template_rows": null,
            "right": null,
            "justify_content": null,
            "_view_module": "@jupyter-widgets/base",
            "overflow": null,
            "_model_module_version": "1.2.0",
            "_view_count": null,
            "flex_flow": null,
            "width": null,
            "min_width": null,
            "border": null,
            "align_items": null,
            "bottom": null,
            "_model_module": "@jupyter-widgets/base",
            "top": null,
            "grid_column": null,
            "overflow_y": null,
            "overflow_x": null,
            "grid_auto_flow": null,
            "grid_area": null,
            "grid_template_columns": null,
            "flex": null,
            "_model_name": "LayoutModel",
            "justify_items": null,
            "grid_row": null,
            "max_height": null,
            "align_content": null,
            "visibility": null,
            "align_self": null,
            "height": null,
            "min_height": null,
            "padding": null,
            "grid_auto_rows": null,
            "grid_gap": null,
            "max_width": null,
            "order": null,
            "_view_module_version": "1.2.0",
            "grid_template_areas": null,
            "object_position": null,
            "object_fit": null,
            "grid_auto_columns": null,
            "margin": null,
            "display": null,
            "left": null
          }
        },
        "f79d9f9f2f9c487786c94d17b2b7a9d4": {
          "model_module": "@jupyter-widgets/controls",
          "model_name": "DescriptionStyleModel",
          "model_module_version": "1.5.0",
          "state": {
            "_view_name": "StyleView",
            "_model_name": "DescriptionStyleModel",
            "description_width": "",
            "_view_module": "@jupyter-widgets/base",
            "_model_module_version": "1.5.0",
            "_view_count": null,
            "_view_module_version": "1.2.0",
            "_model_module": "@jupyter-widgets/controls"
          }
        },
        "59c5599f382a4566a7be569c2d4d2c84": {
          "model_module": "@jupyter-widgets/base",
          "model_name": "LayoutModel",
          "model_module_version": "1.2.0",
          "state": {
            "_view_name": "LayoutView",
            "grid_template_rows": null,
            "right": null,
            "justify_content": null,
            "_view_module": "@jupyter-widgets/base",
            "overflow": null,
            "_model_module_version": "1.2.0",
            "_view_count": null,
            "flex_flow": null,
            "width": null,
            "min_width": null,
            "border": null,
            "align_items": null,
            "bottom": null,
            "_model_module": "@jupyter-widgets/base",
            "top": null,
            "grid_column": null,
            "overflow_y": null,
            "overflow_x": null,
            "grid_auto_flow": null,
            "grid_area": null,
            "grid_template_columns": null,
            "flex": null,
            "_model_name": "LayoutModel",
            "justify_items": null,
            "grid_row": null,
            "max_height": null,
            "align_content": null,
            "visibility": null,
            "align_self": null,
            "height": null,
            "min_height": null,
            "padding": null,
            "grid_auto_rows": null,
            "grid_gap": null,
            "max_width": null,
            "order": null,
            "_view_module_version": "1.2.0",
            "grid_template_areas": null,
            "object_position": null,
            "object_fit": null,
            "grid_auto_columns": null,
            "margin": null,
            "display": null,
            "left": null
          }
        }
      }
    }
  },
  "nbformat": 4,
  "nbformat_minor": 0
}